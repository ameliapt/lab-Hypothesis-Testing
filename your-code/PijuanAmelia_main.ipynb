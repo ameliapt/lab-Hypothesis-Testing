{
 "cells": [
  {
   "cell_type": "markdown",
   "metadata": {
    "id": "xjI20x84zSx2"
   },
   "source": [
    "# Before you start:\n",
    "- Read the README.md file\n",
    "- Comment as much as you can and use the resources (README.md file)\n",
    "- Happy learning!"
   ]
  },
  {
   "cell_type": "markdown",
   "metadata": {},
   "source": [
    "## Hypothesis Testing"
   ]
  },
  {
   "cell_type": "code",
   "execution_count": 1,
   "metadata": {
    "colab": {
     "base_uri": "https://localhost:8080/"
    },
    "id": "uzAOTQfoz15Q",
    "outputId": "9597f4c2-a277-4c68-a984-a22cd1d353c6"
   },
   "outputs": [
    {
     "name": "stdout",
     "output_type": "stream",
     "text": [
      "Requirement already satisfied: scipy in c:\\users\\ameli\\anaconda3\\lib\\site-packages (1.9.0)\n",
      "Requirement already satisfied: numpy<1.25.0,>=1.18.5 in c:\\users\\ameli\\anaconda3\\lib\\site-packages (from scipy) (1.21.5)\n"
     ]
    }
   ],
   "source": [
    "!pip install -U scipy"
   ]
  },
  {
   "cell_type": "code",
   "execution_count": 2,
   "metadata": {
    "id": "PIKv798RzSx6"
   },
   "outputs": [],
   "source": [
    "# import numpy and pandas\n",
    "import pandas as pd\n",
    "import numpy as np"
   ]
  },
  {
   "cell_type": "markdown",
   "metadata": {
    "id": "GvMX-v1TzSx7"
   },
   "source": [
    "# Challenge 1 - Exploring the Data\n",
    "\n",
    "In this challenge, we will examine all salaries of employees of the San Francisco. We will start by loading the dataset and examining its contents. "
   ]
  },
  {
   "cell_type": "code",
   "execution_count": 3,
   "metadata": {
    "colab": {
     "base_uri": "https://localhost:8080/"
    },
    "id": "jx8dpv-xzSx8",
    "outputId": "c1a35f3c-afb6-4b20-d774-06bbdca465ea"
   },
   "outputs": [
    {
     "name": "stderr",
     "output_type": "stream",
     "text": [
      "C:\\Users\\ameli\\AppData\\Local\\Temp\\ipykernel_32792\\633549221.py:1: DtypeWarning: Columns (3,4,5,6,12) have mixed types. Specify dtype option on import or set low_memory=False.\n",
      "  salaries = pd.read_csv('C:/Users/ameli/IRONHACK/WEEK_4/DAY_3/AFTERNOON_SESSION/lab-Hypothesis-Testing/data/Salaries.csv')\n"
     ]
    }
   ],
   "source": [
    "salaries = pd.read_csv('C:/Users/ameli/IRONHACK/WEEK_4/DAY_3/AFTERNOON_SESSION/lab-Hypothesis-Testing/data/Salaries.csv')"
   ]
  },
  {
   "cell_type": "markdown",
   "metadata": {
    "id": "28njElH1zSx9"
   },
   "source": [
    "Examine the `salaries` dataset using the `head` function below."
   ]
  },
  {
   "cell_type": "code",
   "execution_count": 4,
   "metadata": {},
   "outputs": [
    {
     "data": {
      "text/html": [
       "<div>\n",
       "<style scoped>\n",
       "    .dataframe tbody tr th:only-of-type {\n",
       "        vertical-align: middle;\n",
       "    }\n",
       "\n",
       "    .dataframe tbody tr th {\n",
       "        vertical-align: top;\n",
       "    }\n",
       "\n",
       "    .dataframe thead th {\n",
       "        text-align: right;\n",
       "    }\n",
       "</style>\n",
       "<table border=\"1\" class=\"dataframe\">\n",
       "  <thead>\n",
       "    <tr style=\"text-align: right;\">\n",
       "      <th></th>\n",
       "      <th>Id</th>\n",
       "      <th>EmployeeName</th>\n",
       "      <th>JobTitle</th>\n",
       "      <th>BasePay</th>\n",
       "      <th>OvertimePay</th>\n",
       "      <th>OtherPay</th>\n",
       "      <th>Benefits</th>\n",
       "      <th>TotalPay</th>\n",
       "      <th>TotalPayBenefits</th>\n",
       "      <th>Year</th>\n",
       "      <th>Notes</th>\n",
       "      <th>Agency</th>\n",
       "      <th>Status</th>\n",
       "    </tr>\n",
       "  </thead>\n",
       "  <tbody>\n",
       "    <tr>\n",
       "      <th>0</th>\n",
       "      <td>1</td>\n",
       "      <td>NATHANIEL FORD</td>\n",
       "      <td>GENERAL MANAGER-METROPOLITAN TRANSIT AUTHORITY</td>\n",
       "      <td>167411.18</td>\n",
       "      <td>0.0</td>\n",
       "      <td>400184.25</td>\n",
       "      <td>NaN</td>\n",
       "      <td>567595.43</td>\n",
       "      <td>567595.43</td>\n",
       "      <td>2011</td>\n",
       "      <td>NaN</td>\n",
       "      <td>San Francisco</td>\n",
       "      <td>NaN</td>\n",
       "    </tr>\n",
       "    <tr>\n",
       "      <th>1</th>\n",
       "      <td>2</td>\n",
       "      <td>GARY JIMENEZ</td>\n",
       "      <td>CAPTAIN III (POLICE DEPARTMENT)</td>\n",
       "      <td>155966.02</td>\n",
       "      <td>245131.88</td>\n",
       "      <td>137811.38</td>\n",
       "      <td>NaN</td>\n",
       "      <td>538909.28</td>\n",
       "      <td>538909.28</td>\n",
       "      <td>2011</td>\n",
       "      <td>NaN</td>\n",
       "      <td>San Francisco</td>\n",
       "      <td>NaN</td>\n",
       "    </tr>\n",
       "    <tr>\n",
       "      <th>2</th>\n",
       "      <td>3</td>\n",
       "      <td>ALBERT PARDINI</td>\n",
       "      <td>CAPTAIN III (POLICE DEPARTMENT)</td>\n",
       "      <td>212739.13</td>\n",
       "      <td>106088.18</td>\n",
       "      <td>16452.6</td>\n",
       "      <td>NaN</td>\n",
       "      <td>335279.91</td>\n",
       "      <td>335279.91</td>\n",
       "      <td>2011</td>\n",
       "      <td>NaN</td>\n",
       "      <td>San Francisco</td>\n",
       "      <td>NaN</td>\n",
       "    </tr>\n",
       "    <tr>\n",
       "      <th>3</th>\n",
       "      <td>4</td>\n",
       "      <td>CHRISTOPHER CHONG</td>\n",
       "      <td>WIRE ROPE CABLE MAINTENANCE MECHANIC</td>\n",
       "      <td>77916.0</td>\n",
       "      <td>56120.71</td>\n",
       "      <td>198306.9</td>\n",
       "      <td>NaN</td>\n",
       "      <td>332343.61</td>\n",
       "      <td>332343.61</td>\n",
       "      <td>2011</td>\n",
       "      <td>NaN</td>\n",
       "      <td>San Francisco</td>\n",
       "      <td>NaN</td>\n",
       "    </tr>\n",
       "    <tr>\n",
       "      <th>4</th>\n",
       "      <td>5</td>\n",
       "      <td>PATRICK GARDNER</td>\n",
       "      <td>DEPUTY CHIEF OF DEPARTMENT,(FIRE DEPARTMENT)</td>\n",
       "      <td>134401.6</td>\n",
       "      <td>9737.0</td>\n",
       "      <td>182234.59</td>\n",
       "      <td>NaN</td>\n",
       "      <td>326373.19</td>\n",
       "      <td>326373.19</td>\n",
       "      <td>2011</td>\n",
       "      <td>NaN</td>\n",
       "      <td>San Francisco</td>\n",
       "      <td>NaN</td>\n",
       "    </tr>\n",
       "  </tbody>\n",
       "</table>\n",
       "</div>"
      ],
      "text/plain": [
       "   Id       EmployeeName                                        JobTitle  \\\n",
       "0   1     NATHANIEL FORD  GENERAL MANAGER-METROPOLITAN TRANSIT AUTHORITY   \n",
       "1   2       GARY JIMENEZ                 CAPTAIN III (POLICE DEPARTMENT)   \n",
       "2   3     ALBERT PARDINI                 CAPTAIN III (POLICE DEPARTMENT)   \n",
       "3   4  CHRISTOPHER CHONG            WIRE ROPE CABLE MAINTENANCE MECHANIC   \n",
       "4   5    PATRICK GARDNER    DEPUTY CHIEF OF DEPARTMENT,(FIRE DEPARTMENT)   \n",
       "\n",
       "     BasePay OvertimePay   OtherPay Benefits   TotalPay  TotalPayBenefits  \\\n",
       "0  167411.18         0.0  400184.25      NaN  567595.43         567595.43   \n",
       "1  155966.02   245131.88  137811.38      NaN  538909.28         538909.28   \n",
       "2  212739.13   106088.18    16452.6      NaN  335279.91         335279.91   \n",
       "3    77916.0    56120.71   198306.9      NaN  332343.61         332343.61   \n",
       "4   134401.6      9737.0  182234.59      NaN  326373.19         326373.19   \n",
       "\n",
       "   Year  Notes         Agency Status  \n",
       "0  2011    NaN  San Francisco    NaN  \n",
       "1  2011    NaN  San Francisco    NaN  \n",
       "2  2011    NaN  San Francisco    NaN  \n",
       "3  2011    NaN  San Francisco    NaN  \n",
       "4  2011    NaN  San Francisco    NaN  "
      ]
     },
     "execution_count": 4,
     "metadata": {},
     "output_type": "execute_result"
    }
   ],
   "source": [
    "salaries.head()"
   ]
  },
  {
   "cell_type": "markdown",
   "metadata": {
    "id": "78ppeI4czSx-"
   },
   "source": [
    "We see from looking at the `head` function that there is quite a bit of missing data. Get the amount of missing data in every column"
   ]
  },
  {
   "cell_type": "code",
   "execution_count": 5,
   "metadata": {
    "colab": {
     "base_uri": "https://localhost:8080/"
    },
    "id": "mqyrt17AzSx-",
    "outputId": "c0d862ff-8beb-417a-9b6e-2ae950c19492"
   },
   "outputs": [
    {
     "data": {
      "text/plain": [
       "Id                       0\n",
       "EmployeeName             0\n",
       "JobTitle                 0\n",
       "BasePay                605\n",
       "OvertimePay              0\n",
       "OtherPay                 0\n",
       "Benefits             36159\n",
       "TotalPay                 0\n",
       "TotalPayBenefits         0\n",
       "Year                     0\n",
       "Notes               148654\n",
       "Agency                   0\n",
       "Status              110535\n",
       "dtype: int64"
      ]
     },
     "execution_count": 5,
     "metadata": {},
     "output_type": "execute_result"
    }
   ],
   "source": [
    "salaries.isna().sum()"
   ]
  },
  {
   "cell_type": "markdown",
   "metadata": {
    "id": "P7_uHi3nzSx_"
   },
   "source": [
    "Get the shape of the dataframe"
   ]
  },
  {
   "cell_type": "code",
   "execution_count": 6,
   "metadata": {
    "colab": {
     "base_uri": "https://localhost:8080/"
    },
    "id": "_cJvEdTgzSx_",
    "outputId": "61a90101-4466-42db-fc53-b2be109f586d"
   },
   "outputs": [
    {
     "data": {
      "text/plain": [
       "(148654, 13)"
      ]
     },
     "execution_count": 6,
     "metadata": {},
     "output_type": "execute_result"
    }
   ],
   "source": [
    "salaries.shape"
   ]
  },
  {
   "cell_type": "markdown",
   "metadata": {
    "id": "Dvi-WtBNzSyA"
   },
   "source": [
    "Given output of the previous two cells, drop the corresponding column and compute again the amount of missing values."
   ]
  },
  {
   "cell_type": "code",
   "execution_count": 7,
   "metadata": {},
   "outputs": [],
   "source": [
    "salaries.drop('Notes', axis=1, inplace=True)"
   ]
  },
  {
   "cell_type": "code",
   "execution_count": 8,
   "metadata": {
    "colab": {
     "base_uri": "https://localhost:8080/"
    },
    "id": "qOynt6ZkzSyA",
    "outputId": "6e80e3ba-a79a-402d-e2be-996a8ab13c77"
   },
   "outputs": [
    {
     "data": {
      "text/plain": [
       "Id                       0\n",
       "EmployeeName             0\n",
       "JobTitle                 0\n",
       "BasePay                605\n",
       "OvertimePay              0\n",
       "OtherPay                 0\n",
       "Benefits             36159\n",
       "TotalPay                 0\n",
       "TotalPayBenefits         0\n",
       "Year                     0\n",
       "Agency                   0\n",
       "Status              110535\n",
       "dtype: int64"
      ]
     },
     "execution_count": 8,
     "metadata": {},
     "output_type": "execute_result"
    }
   ],
   "source": [
    "salaries.isna().sum()"
   ]
  },
  {
   "cell_type": "markdown",
   "metadata": {
    "id": "wrIJFfY4zSyB"
   },
   "source": [
    "Check out what are the possible values of the column \"Status\"."
   ]
  },
  {
   "cell_type": "code",
   "execution_count": 9,
   "metadata": {
    "colab": {
     "base_uri": "https://localhost:8080/"
    },
    "id": "3-rUObH9zSyB",
    "outputId": "8d9b940d-694c-401b-8535-d390e829acdc"
   },
   "outputs": [
    {
     "data": {
      "text/plain": [
       "array([nan, 'PT', 'FT'], dtype=object)"
      ]
     },
     "execution_count": 9,
     "metadata": {},
     "output_type": "execute_result"
    }
   ],
   "source": [
    "salaries['Status'].unique()"
   ]
  },
  {
   "cell_type": "markdown",
   "metadata": {
    "id": "s7c1YgwUzSyC"
   },
   "source": [
    "Drop any row with missing values in the \"Status\" column and compute again the number of missing values."
   ]
  },
  {
   "cell_type": "code",
   "execution_count": 10,
   "metadata": {},
   "outputs": [],
   "source": [
    "salaries.dropna(axis= 0, subset= 'Status', inplace= True)"
   ]
  },
  {
   "cell_type": "code",
   "execution_count": 11,
   "metadata": {},
   "outputs": [
    {
     "data": {
      "text/plain": [
       "Id                  0\n",
       "EmployeeName        0\n",
       "JobTitle            0\n",
       "BasePay             0\n",
       "OvertimePay         0\n",
       "OtherPay            0\n",
       "Benefits            0\n",
       "TotalPay            0\n",
       "TotalPayBenefits    0\n",
       "Year                0\n",
       "Agency              0\n",
       "Status              0\n",
       "dtype: int64"
      ]
     },
     "execution_count": 11,
     "metadata": {},
     "output_type": "execute_result"
    }
   ],
   "source": [
    "salaries.isna().sum()"
   ]
  },
  {
   "cell_type": "markdown",
   "metadata": {
    "id": "rxOUWb9AzSyD"
   },
   "source": [
    "Check out the types of each column and see if they make sense."
   ]
  },
  {
   "cell_type": "code",
   "execution_count": 12,
   "metadata": {},
   "outputs": [
    {
     "name": "stdout",
     "output_type": "stream",
     "text": [
      "<class 'pandas.core.frame.DataFrame'>\n",
      "Int64Index: 38119 entries, 110531 to 148653\n",
      "Data columns (total 12 columns):\n",
      " #   Column            Non-Null Count  Dtype  \n",
      "---  ------            --------------  -----  \n",
      " 0   Id                38119 non-null  int64  \n",
      " 1   EmployeeName      38119 non-null  object \n",
      " 2   JobTitle          38119 non-null  object \n",
      " 3   BasePay           38119 non-null  object \n",
      " 4   OvertimePay       38119 non-null  object \n",
      " 5   OtherPay          38119 non-null  object \n",
      " 6   Benefits          38119 non-null  object \n",
      " 7   TotalPay          38119 non-null  float64\n",
      " 8   TotalPayBenefits  38119 non-null  float64\n",
      " 9   Year              38119 non-null  int64  \n",
      " 10  Agency            38119 non-null  object \n",
      " 11  Status            38119 non-null  object \n",
      "dtypes: float64(2), int64(2), object(8)\n",
      "memory usage: 3.8+ MB\n"
     ]
    }
   ],
   "source": [
    "salaries.info()"
   ]
  },
  {
   "cell_type": "markdown",
   "metadata": {},
   "source": [
    "#### Comments on column types:\n",
    "\n",
    "- BasePay, OvertimePay, OtherPay, and Benefits values should be float type.\n",
    "- Year could be DateTime type, but as it only contains one value, we'll leave it as it is for the moment."
   ]
  },
  {
   "cell_type": "markdown",
   "metadata": {
    "id": "lLEKu7vxzSyE"
   },
   "source": [
    "Do any type conversions and reset the index."
   ]
  },
  {
   "cell_type": "code",
   "execution_count": 13,
   "metadata": {},
   "outputs": [],
   "source": [
    "salaries = salaries.astype({'BasePay': 'float64', 'OvertimePay': 'float64', \n",
    "                 'OtherPay': 'float64', 'Benefits': 'float64'})\n",
    "salaries = salaries.reset_index(drop=True)"
   ]
  },
  {
   "cell_type": "code",
   "execution_count": 14,
   "metadata": {
    "id": "ufFv58v_zSyE"
   },
   "outputs": [
    {
     "name": "stdout",
     "output_type": "stream",
     "text": [
      "<class 'pandas.core.frame.DataFrame'>\n",
      "RangeIndex: 38119 entries, 0 to 38118\n",
      "Data columns (total 12 columns):\n",
      " #   Column            Non-Null Count  Dtype  \n",
      "---  ------            --------------  -----  \n",
      " 0   Id                38119 non-null  int64  \n",
      " 1   EmployeeName      38119 non-null  object \n",
      " 2   JobTitle          38119 non-null  object \n",
      " 3   BasePay           38119 non-null  float64\n",
      " 4   OvertimePay       38119 non-null  float64\n",
      " 5   OtherPay          38119 non-null  float64\n",
      " 6   Benefits          38119 non-null  float64\n",
      " 7   TotalPay          38119 non-null  float64\n",
      " 8   TotalPayBenefits  38119 non-null  float64\n",
      " 9   Year              38119 non-null  int64  \n",
      " 10  Agency            38119 non-null  object \n",
      " 11  Status            38119 non-null  object \n",
      "dtypes: float64(6), int64(2), object(4)\n",
      "memory usage: 3.5+ MB\n"
     ]
    }
   ],
   "source": [
    "salaries.info()"
   ]
  },
  {
   "cell_type": "markdown",
   "metadata": {
    "id": "2DNK_QLozSyF"
   },
   "source": [
    "Check out if \"TotalPayBenefits\" = \"BasePay\" + \"OvertimePay\" + \"OtherPay\" + \"Benefits\""
   ]
  },
  {
   "cell_type": "code",
   "execution_count": 15,
   "metadata": {},
   "outputs": [
    {
     "data": {
      "text/plain": [
       "0    510732.68\n",
       "1    479652.21\n",
       "2    436224.36\n",
       "3    418019.22\n",
       "4    417435.10\n",
       "Name: TotalPayBenefitsFormula, dtype: float64"
      ]
     },
     "execution_count": 15,
     "metadata": {},
     "output_type": "execute_result"
    }
   ],
   "source": [
    "salaries['TotalPayBenefitsFormula'] = salaries['BasePay'] + salaries['OvertimePay'] + salaries['OtherPay'] + salaries['Benefits']\n",
    "salaries['TotalPayBenefitsFormula'].head()"
   ]
  },
  {
   "cell_type": "code",
   "execution_count": 16,
   "metadata": {
    "colab": {
     "base_uri": "https://localhost:8080/"
    },
    "id": "XuydOtmBzSyF",
    "outputId": "83cd3939-89ec-4e36-dda8-ebb4b8e49013"
   },
   "outputs": [
    {
     "data": {
      "text/plain": [
       "0         True\n",
       "1        False\n",
       "2         True\n",
       "3        False\n",
       "4         True\n",
       "         ...  \n",
       "38114     True\n",
       "38115     True\n",
       "38116     True\n",
       "38117     True\n",
       "38118     True\n",
       "Name: check, Length: 38119, dtype: bool"
      ]
     },
     "execution_count": 16,
     "metadata": {},
     "output_type": "execute_result"
    }
   ],
   "source": [
    "salaries['check'] = salaries['TotalPayBenefits'] == salaries['TotalPayBenefitsFormula']\n",
    "salaries['check']"
   ]
  },
  {
   "cell_type": "markdown",
   "metadata": {
    "id": "65AtoiMDzSyF"
   },
   "source": [
    "What is the percetage of employees for which the previous assumption is not True?"
   ]
  },
  {
   "cell_type": "code",
   "execution_count": 17,
   "metadata": {},
   "outputs": [
    {
     "data": {
      "text/plain": [
       "True     73.708649\n",
       "False    26.291351\n",
       "Name: check, dtype: float64"
      ]
     },
     "execution_count": 17,
     "metadata": {},
     "output_type": "execute_result"
    }
   ],
   "source": [
    "salaries['check'].value_counts(normalize=True)*100"
   ]
  },
  {
   "cell_type": "markdown",
   "metadata": {
    "id": "hxAKJ0grzSyG"
   },
   "source": [
    "There are different departments in the city. List all departments and the count of employees in each department."
   ]
  },
  {
   "cell_type": "code",
   "execution_count": 18,
   "metadata": {},
   "outputs": [],
   "source": [
    "employee_by_dept = salaries.pivot_table(index = 'JobTitle', values= 'Id', aggfunc='count').rename({'Id':'Employee'})\n",
    "employee_by_dept = employee_by_dept.rename(columns={'Id': 'Employees'})"
   ]
  },
  {
   "cell_type": "markdown",
   "metadata": {
    "id": "eBkEuDaLzSyG"
   },
   "source": [
    "# Challenge 2 - Hypothesis Tests\n",
    "\n",
    "In this section of the lab, we will test whether the hourly wage of **all FT workers is significantly different from $75/hr**. Get first the hourly wage by dividing \"TotalPayBenefits\" by 50 weeks (assuming 10 labour days of holidays) and by 40hrs (assuming a 40hrs week).\n",
    "\n",
    "$$Hourly Wage = \\frac{TotalPayBenefits}{1 year}\\frac{1 year}{50 Week}\\frac{1 Week}{40 hr}$$\n",
    "\n",
    "Import the correct one sample test function from scipy and perform the hypothesis test for a 95% two sided confidence interval."
   ]
  },
  {
   "cell_type": "code",
   "execution_count": 19,
   "metadata": {},
   "outputs": [
    {
     "data": {
      "text/html": [
       "<div>\n",
       "<style scoped>\n",
       "    .dataframe tbody tr th:only-of-type {\n",
       "        vertical-align: middle;\n",
       "    }\n",
       "\n",
       "    .dataframe tbody tr th {\n",
       "        vertical-align: top;\n",
       "    }\n",
       "\n",
       "    .dataframe thead th {\n",
       "        text-align: right;\n",
       "    }\n",
       "</style>\n",
       "<table border=\"1\" class=\"dataframe\">\n",
       "  <thead>\n",
       "    <tr style=\"text-align: right;\">\n",
       "      <th></th>\n",
       "      <th>Id</th>\n",
       "      <th>EmployeeName</th>\n",
       "      <th>JobTitle</th>\n",
       "      <th>BasePay</th>\n",
       "      <th>OvertimePay</th>\n",
       "      <th>OtherPay</th>\n",
       "      <th>Benefits</th>\n",
       "      <th>TotalPay</th>\n",
       "      <th>TotalPayBenefits</th>\n",
       "      <th>Year</th>\n",
       "      <th>Agency</th>\n",
       "      <th>Status</th>\n",
       "      <th>TotalPayBenefitsFormula</th>\n",
       "      <th>check</th>\n",
       "      <th>Hourly_Wage</th>\n",
       "    </tr>\n",
       "  </thead>\n",
       "  <tbody>\n",
       "    <tr>\n",
       "      <th>0</th>\n",
       "      <td>110532</td>\n",
       "      <td>David Shinn</td>\n",
       "      <td>Deputy Chief 3</td>\n",
       "      <td>129150.01</td>\n",
       "      <td>0.00</td>\n",
       "      <td>342802.63</td>\n",
       "      <td>38780.04</td>\n",
       "      <td>471952.64</td>\n",
       "      <td>510732.68</td>\n",
       "      <td>2014</td>\n",
       "      <td>San Francisco</td>\n",
       "      <td>PT</td>\n",
       "      <td>510732.68</td>\n",
       "      <td>True</td>\n",
       "      <td>255.366340</td>\n",
       "    </tr>\n",
       "    <tr>\n",
       "      <th>1</th>\n",
       "      <td>110533</td>\n",
       "      <td>Amy P Hart</td>\n",
       "      <td>Asst Med Examiner</td>\n",
       "      <td>318835.49</td>\n",
       "      <td>10712.95</td>\n",
       "      <td>60563.54</td>\n",
       "      <td>89540.23</td>\n",
       "      <td>390111.98</td>\n",
       "      <td>479652.21</td>\n",
       "      <td>2014</td>\n",
       "      <td>San Francisco</td>\n",
       "      <td>FT</td>\n",
       "      <td>479652.21</td>\n",
       "      <td>False</td>\n",
       "      <td>239.826105</td>\n",
       "    </tr>\n",
       "    <tr>\n",
       "      <th>2</th>\n",
       "      <td>110534</td>\n",
       "      <td>William J Coaker Jr.</td>\n",
       "      <td>Chief Investment Officer</td>\n",
       "      <td>257340.00</td>\n",
       "      <td>0.00</td>\n",
       "      <td>82313.70</td>\n",
       "      <td>96570.66</td>\n",
       "      <td>339653.70</td>\n",
       "      <td>436224.36</td>\n",
       "      <td>2014</td>\n",
       "      <td>San Francisco</td>\n",
       "      <td>PT</td>\n",
       "      <td>436224.36</td>\n",
       "      <td>True</td>\n",
       "      <td>218.112180</td>\n",
       "    </tr>\n",
       "    <tr>\n",
       "      <th>3</th>\n",
       "      <td>110535</td>\n",
       "      <td>Gregory P Suhr</td>\n",
       "      <td>Chief of Police</td>\n",
       "      <td>307450.04</td>\n",
       "      <td>0.00</td>\n",
       "      <td>19266.72</td>\n",
       "      <td>91302.46</td>\n",
       "      <td>326716.76</td>\n",
       "      <td>418019.22</td>\n",
       "      <td>2014</td>\n",
       "      <td>San Francisco</td>\n",
       "      <td>FT</td>\n",
       "      <td>418019.22</td>\n",
       "      <td>False</td>\n",
       "      <td>209.009610</td>\n",
       "    </tr>\n",
       "    <tr>\n",
       "      <th>4</th>\n",
       "      <td>110536</td>\n",
       "      <td>Joanne M Hayes-White</td>\n",
       "      <td>Chief, Fire Department</td>\n",
       "      <td>302068.00</td>\n",
       "      <td>0.00</td>\n",
       "      <td>24165.44</td>\n",
       "      <td>91201.66</td>\n",
       "      <td>326233.44</td>\n",
       "      <td>417435.10</td>\n",
       "      <td>2014</td>\n",
       "      <td>San Francisco</td>\n",
       "      <td>FT</td>\n",
       "      <td>417435.10</td>\n",
       "      <td>True</td>\n",
       "      <td>208.717550</td>\n",
       "    </tr>\n",
       "    <tr>\n",
       "      <th>5</th>\n",
       "      <td>110537</td>\n",
       "      <td>Ellen G Moffatt</td>\n",
       "      <td>Asst Med Examiner</td>\n",
       "      <td>270222.04</td>\n",
       "      <td>6009.22</td>\n",
       "      <td>67956.20</td>\n",
       "      <td>71580.48</td>\n",
       "      <td>344187.46</td>\n",
       "      <td>415767.94</td>\n",
       "      <td>2014</td>\n",
       "      <td>San Francisco</td>\n",
       "      <td>FT</td>\n",
       "      <td>415767.94</td>\n",
       "      <td>False</td>\n",
       "      <td>207.883970</td>\n",
       "    </tr>\n",
       "    <tr>\n",
       "      <th>6</th>\n",
       "      <td>110538</td>\n",
       "      <td>John L Martin</td>\n",
       "      <td>Dept Head V</td>\n",
       "      <td>311298.55</td>\n",
       "      <td>0.00</td>\n",
       "      <td>0.00</td>\n",
       "      <td>89772.32</td>\n",
       "      <td>311298.55</td>\n",
       "      <td>401070.87</td>\n",
       "      <td>2014</td>\n",
       "      <td>San Francisco</td>\n",
       "      <td>FT</td>\n",
       "      <td>401070.87</td>\n",
       "      <td>True</td>\n",
       "      <td>200.535435</td>\n",
       "    </tr>\n",
       "    <tr>\n",
       "      <th>7</th>\n",
       "      <td>110539</td>\n",
       "      <td>Harlan L Kelly-Jr</td>\n",
       "      <td>Executive Contract Employee</td>\n",
       "      <td>310161.02</td>\n",
       "      <td>0.00</td>\n",
       "      <td>0.00</td>\n",
       "      <td>88823.51</td>\n",
       "      <td>310161.02</td>\n",
       "      <td>398984.53</td>\n",
       "      <td>2014</td>\n",
       "      <td>San Francisco</td>\n",
       "      <td>FT</td>\n",
       "      <td>398984.53</td>\n",
       "      <td>True</td>\n",
       "      <td>199.492265</td>\n",
       "    </tr>\n",
       "    <tr>\n",
       "      <th>8</th>\n",
       "      <td>110540</td>\n",
       "      <td>Samson Lai</td>\n",
       "      <td>Battalion Chief, Fire Suppress</td>\n",
       "      <td>179464.14</td>\n",
       "      <td>128685.99</td>\n",
       "      <td>27334.83</td>\n",
       "      <td>59876.90</td>\n",
       "      <td>335484.96</td>\n",
       "      <td>395361.86</td>\n",
       "      <td>2014</td>\n",
       "      <td>San Francisco</td>\n",
       "      <td>FT</td>\n",
       "      <td>395361.86</td>\n",
       "      <td>False</td>\n",
       "      <td>197.680930</td>\n",
       "    </tr>\n",
       "    <tr>\n",
       "      <th>9</th>\n",
       "      <td>110541</td>\n",
       "      <td>David L Franklin</td>\n",
       "      <td>Asst Chf of Dept (Fire Dept)</td>\n",
       "      <td>201566.88</td>\n",
       "      <td>97907.38</td>\n",
       "      <td>29916.28</td>\n",
       "      <td>64599.59</td>\n",
       "      <td>329390.54</td>\n",
       "      <td>393990.13</td>\n",
       "      <td>2014</td>\n",
       "      <td>San Francisco</td>\n",
       "      <td>FT</td>\n",
       "      <td>393990.13</td>\n",
       "      <td>True</td>\n",
       "      <td>196.995065</td>\n",
       "    </tr>\n",
       "    <tr>\n",
       "      <th>10</th>\n",
       "      <td>110542</td>\n",
       "      <td>Edward D Reiskin</td>\n",
       "      <td>Gen Mgr, Public Trnsp Dept</td>\n",
       "      <td>294000.18</td>\n",
       "      <td>0.00</td>\n",
       "      <td>0.00</td>\n",
       "      <td>85918.54</td>\n",
       "      <td>294000.18</td>\n",
       "      <td>379918.72</td>\n",
       "      <td>2014</td>\n",
       "      <td>San Francisco</td>\n",
       "      <td>FT</td>\n",
       "      <td>379918.72</td>\n",
       "      <td>True</td>\n",
       "      <td>189.959360</td>\n",
       "    </tr>\n",
       "    <tr>\n",
       "      <th>11</th>\n",
       "      <td>110543</td>\n",
       "      <td>Yifang Qian</td>\n",
       "      <td>Senior Physician Specialist</td>\n",
       "      <td>198874.01</td>\n",
       "      <td>0.00</td>\n",
       "      <td>112776.35</td>\n",
       "      <td>62947.63</td>\n",
       "      <td>311650.36</td>\n",
       "      <td>374597.99</td>\n",
       "      <td>2014</td>\n",
       "      <td>San Francisco</td>\n",
       "      <td>FT</td>\n",
       "      <td>374597.99</td>\n",
       "      <td>True</td>\n",
       "      <td>187.298995</td>\n",
       "    </tr>\n",
       "    <tr>\n",
       "      <th>12</th>\n",
       "      <td>110544</td>\n",
       "      <td>Richard L Corriea</td>\n",
       "      <td>Commander 3</td>\n",
       "      <td>184734.01</td>\n",
       "      <td>0.00</td>\n",
       "      <td>137409.09</td>\n",
       "      <td>51940.39</td>\n",
       "      <td>322143.10</td>\n",
       "      <td>374083.49</td>\n",
       "      <td>2014</td>\n",
       "      <td>San Francisco</td>\n",
       "      <td>PT</td>\n",
       "      <td>374083.49</td>\n",
       "      <td>True</td>\n",
       "      <td>187.041745</td>\n",
       "    </tr>\n",
       "    <tr>\n",
       "      <th>13</th>\n",
       "      <td>110545</td>\n",
       "      <td>Raymond A Guzman</td>\n",
       "      <td>Dep Chf of Dept (Fire Dept)</td>\n",
       "      <td>260728.04</td>\n",
       "      <td>0.00</td>\n",
       "      <td>26761.80</td>\n",
       "      <td>82974.58</td>\n",
       "      <td>287489.84</td>\n",
       "      <td>370464.42</td>\n",
       "      <td>2014</td>\n",
       "      <td>San Francisco</td>\n",
       "      <td>FT</td>\n",
       "      <td>370464.42</td>\n",
       "      <td>False</td>\n",
       "      <td>185.232210</td>\n",
       "    </tr>\n",
       "    <tr>\n",
       "      <th>14</th>\n",
       "      <td>110546</td>\n",
       "      <td>Jose L Velo</td>\n",
       "      <td>Battalion Chief, Fire Suppress</td>\n",
       "      <td>183333.82</td>\n",
       "      <td>100005.66</td>\n",
       "      <td>23760.13</td>\n",
       "      <td>61052.39</td>\n",
       "      <td>307099.61</td>\n",
       "      <td>368152.00</td>\n",
       "      <td>2014</td>\n",
       "      <td>San Francisco</td>\n",
       "      <td>FT</td>\n",
       "      <td>368152.00</td>\n",
       "      <td>True</td>\n",
       "      <td>184.076000</td>\n",
       "    </tr>\n",
       "    <tr>\n",
       "      <th>15</th>\n",
       "      <td>110547</td>\n",
       "      <td>Bryan W Rubenstein</td>\n",
       "      <td>Battalion Chief, Fire Suppress</td>\n",
       "      <td>177771.16</td>\n",
       "      <td>91547.61</td>\n",
       "      <td>36798.76</td>\n",
       "      <td>59664.91</td>\n",
       "      <td>306117.53</td>\n",
       "      <td>365782.44</td>\n",
       "      <td>2014</td>\n",
       "      <td>San Francisco</td>\n",
       "      <td>FT</td>\n",
       "      <td>365782.44</td>\n",
       "      <td>False</td>\n",
       "      <td>182.891220</td>\n",
       "    </tr>\n",
       "    <tr>\n",
       "      <th>16</th>\n",
       "      <td>110548</td>\n",
       "      <td>Roland Pickens</td>\n",
       "      <td>Administrator, DPH</td>\n",
       "      <td>282619.96</td>\n",
       "      <td>0.00</td>\n",
       "      <td>0.00</td>\n",
       "      <td>82941.18</td>\n",
       "      <td>282619.96</td>\n",
       "      <td>365561.14</td>\n",
       "      <td>2014</td>\n",
       "      <td>San Francisco</td>\n",
       "      <td>FT</td>\n",
       "      <td>365561.14</td>\n",
       "      <td>True</td>\n",
       "      <td>182.780570</td>\n",
       "    </tr>\n",
       "    <tr>\n",
       "      <th>17</th>\n",
       "      <td>110549</td>\n",
       "      <td>Mark A Gonzales</td>\n",
       "      <td>Dep Chf of Dept (Fire Dept)</td>\n",
       "      <td>260728.00</td>\n",
       "      <td>0.00</td>\n",
       "      <td>22933.73</td>\n",
       "      <td>81886.55</td>\n",
       "      <td>283661.73</td>\n",
       "      <td>365548.28</td>\n",
       "      <td>2014</td>\n",
       "      <td>San Francisco</td>\n",
       "      <td>FT</td>\n",
       "      <td>365548.28</td>\n",
       "      <td>False</td>\n",
       "      <td>182.774140</td>\n",
       "    </tr>\n",
       "    <tr>\n",
       "      <th>18</th>\n",
       "      <td>110550</td>\n",
       "      <td>Barbara A Garcia</td>\n",
       "      <td>Dept Head V</td>\n",
       "      <td>279839.22</td>\n",
       "      <td>0.00</td>\n",
       "      <td>2164.54</td>\n",
       "      <td>82884.27</td>\n",
       "      <td>282003.76</td>\n",
       "      <td>364888.03</td>\n",
       "      <td>2014</td>\n",
       "      <td>San Francisco</td>\n",
       "      <td>FT</td>\n",
       "      <td>364888.03</td>\n",
       "      <td>False</td>\n",
       "      <td>182.444015</td>\n",
       "    </tr>\n",
       "    <tr>\n",
       "      <th>19</th>\n",
       "      <td>110551</td>\n",
       "      <td>Edwin M Lee</td>\n",
       "      <td>Mayor</td>\n",
       "      <td>281537.17</td>\n",
       "      <td>0.00</td>\n",
       "      <td>0.00</td>\n",
       "      <td>83277.34</td>\n",
       "      <td>281537.17</td>\n",
       "      <td>364814.51</td>\n",
       "      <td>2014</td>\n",
       "      <td>San Francisco</td>\n",
       "      <td>FT</td>\n",
       "      <td>364814.51</td>\n",
       "      <td>True</td>\n",
       "      <td>182.407255</td>\n",
       "    </tr>\n",
       "    <tr>\n",
       "      <th>20</th>\n",
       "      <td>110552</td>\n",
       "      <td>Thomas A Siragusa</td>\n",
       "      <td>Asst Chf of Dept (Fire Dept)</td>\n",
       "      <td>207437.76</td>\n",
       "      <td>67712.84</td>\n",
       "      <td>20743.71</td>\n",
       "      <td>64549.50</td>\n",
       "      <td>295894.31</td>\n",
       "      <td>360443.81</td>\n",
       "      <td>2014</td>\n",
       "      <td>San Francisco</td>\n",
       "      <td>FT</td>\n",
       "      <td>360443.81</td>\n",
       "      <td>True</td>\n",
       "      <td>180.221905</td>\n",
       "    </tr>\n",
       "    <tr>\n",
       "      <th>21</th>\n",
       "      <td>110553</td>\n",
       "      <td>Denise A Schmitt</td>\n",
       "      <td>Deputy Chief 3</td>\n",
       "      <td>268632.02</td>\n",
       "      <td>0.00</td>\n",
       "      <td>6192.08</td>\n",
       "      <td>80475.76</td>\n",
       "      <td>274824.10</td>\n",
       "      <td>355299.86</td>\n",
       "      <td>2014</td>\n",
       "      <td>San Francisco</td>\n",
       "      <td>FT</td>\n",
       "      <td>355299.86</td>\n",
       "      <td>False</td>\n",
       "      <td>177.649930</td>\n",
       "    </tr>\n",
       "    <tr>\n",
       "      <th>22</th>\n",
       "      <td>110554</td>\n",
       "      <td>Lyn Tomioka</td>\n",
       "      <td>Deputy Chief 3</td>\n",
       "      <td>268632.00</td>\n",
       "      <td>0.00</td>\n",
       "      <td>6192.08</td>\n",
       "      <td>80475.74</td>\n",
       "      <td>274824.08</td>\n",
       "      <td>355299.82</td>\n",
       "      <td>2014</td>\n",
       "      <td>San Francisco</td>\n",
       "      <td>FT</td>\n",
       "      <td>355299.82</td>\n",
       "      <td>True</td>\n",
       "      <td>177.649910</td>\n",
       "    </tr>\n",
       "    <tr>\n",
       "      <th>23</th>\n",
       "      <td>110555</td>\n",
       "      <td>Arthur W Kenney</td>\n",
       "      <td>Asst Chf of Dept (Fire Dept)</td>\n",
       "      <td>207437.76</td>\n",
       "      <td>31868.28</td>\n",
       "      <td>49941.59</td>\n",
       "      <td>64549.50</td>\n",
       "      <td>289247.63</td>\n",
       "      <td>353797.13</td>\n",
       "      <td>2014</td>\n",
       "      <td>San Francisco</td>\n",
       "      <td>FT</td>\n",
       "      <td>353797.13</td>\n",
       "      <td>True</td>\n",
       "      <td>176.898565</td>\n",
       "    </tr>\n",
       "    <tr>\n",
       "      <th>24</th>\n",
       "      <td>110556</td>\n",
       "      <td>Greg B Pizarro</td>\n",
       "      <td>Asst Med Examiner</td>\n",
       "      <td>233386.01</td>\n",
       "      <td>10794.09</td>\n",
       "      <td>40515.00</td>\n",
       "      <td>66559.68</td>\n",
       "      <td>284695.10</td>\n",
       "      <td>351254.78</td>\n",
       "      <td>2014</td>\n",
       "      <td>San Francisco</td>\n",
       "      <td>FT</td>\n",
       "      <td>351254.78</td>\n",
       "      <td>False</td>\n",
       "      <td>175.627390</td>\n",
       "    </tr>\n",
       "    <tr>\n",
       "      <th>25</th>\n",
       "      <td>110557</td>\n",
       "      <td>Charlie Orkes</td>\n",
       "      <td>Deputy Chief 3</td>\n",
       "      <td>265729.53</td>\n",
       "      <td>0.00</td>\n",
       "      <td>6134.00</td>\n",
       "      <td>78447.40</td>\n",
       "      <td>271863.53</td>\n",
       "      <td>350310.93</td>\n",
       "      <td>2014</td>\n",
       "      <td>San Francisco</td>\n",
       "      <td>FT</td>\n",
       "      <td>350310.93</td>\n",
       "      <td>False</td>\n",
       "      <td>175.155465</td>\n",
       "    </tr>\n",
       "    <tr>\n",
       "      <th>26</th>\n",
       "      <td>110558</td>\n",
       "      <td>Susan Currin</td>\n",
       "      <td>Adm, SFGH Medical Center</td>\n",
       "      <td>268946.02</td>\n",
       "      <td>0.00</td>\n",
       "      <td>0.00</td>\n",
       "      <td>80581.73</td>\n",
       "      <td>268946.02</td>\n",
       "      <td>349527.75</td>\n",
       "      <td>2014</td>\n",
       "      <td>San Francisco</td>\n",
       "      <td>FT</td>\n",
       "      <td>349527.75</td>\n",
       "      <td>True</td>\n",
       "      <td>174.763875</td>\n",
       "    </tr>\n",
       "    <tr>\n",
       "      <th>27</th>\n",
       "      <td>110559</td>\n",
       "      <td>Naomi M Kelly</td>\n",
       "      <td>Dept Head V</td>\n",
       "      <td>267914.01</td>\n",
       "      <td>0.00</td>\n",
       "      <td>0.00</td>\n",
       "      <td>80361.22</td>\n",
       "      <td>267914.01</td>\n",
       "      <td>348275.23</td>\n",
       "      <td>2014</td>\n",
       "      <td>San Francisco</td>\n",
       "      <td>FT</td>\n",
       "      <td>348275.23</td>\n",
       "      <td>True</td>\n",
       "      <td>174.137615</td>\n",
       "    </tr>\n",
       "    <tr>\n",
       "      <th>28</th>\n",
       "      <td>110560</td>\n",
       "      <td>Trent E Rhorer</td>\n",
       "      <td>Dept Head V</td>\n",
       "      <td>267914.00</td>\n",
       "      <td>0.00</td>\n",
       "      <td>0.00</td>\n",
       "      <td>79799.88</td>\n",
       "      <td>267914.00</td>\n",
       "      <td>347713.88</td>\n",
       "      <td>2014</td>\n",
       "      <td>San Francisco</td>\n",
       "      <td>FT</td>\n",
       "      <td>347713.88</td>\n",
       "      <td>True</td>\n",
       "      <td>173.856940</td>\n",
       "    </tr>\n",
       "    <tr>\n",
       "      <th>29</th>\n",
       "      <td>110561</td>\n",
       "      <td>Benjamin L Rosenfield</td>\n",
       "      <td>Controller</td>\n",
       "      <td>267914.00</td>\n",
       "      <td>0.00</td>\n",
       "      <td>0.00</td>\n",
       "      <td>79799.88</td>\n",
       "      <td>267914.00</td>\n",
       "      <td>347713.88</td>\n",
       "      <td>2014</td>\n",
       "      <td>San Francisco</td>\n",
       "      <td>FT</td>\n",
       "      <td>347713.88</td>\n",
       "      <td>True</td>\n",
       "      <td>173.856940</td>\n",
       "    </tr>\n",
       "    <tr>\n",
       "      <th>30</th>\n",
       "      <td>110562</td>\n",
       "      <td>Jay P Huish</td>\n",
       "      <td>Dept Head V</td>\n",
       "      <td>267914.00</td>\n",
       "      <td>0.00</td>\n",
       "      <td>0.00</td>\n",
       "      <td>79799.88</td>\n",
       "      <td>267914.00</td>\n",
       "      <td>347713.88</td>\n",
       "      <td>2014</td>\n",
       "      <td>San Francisco</td>\n",
       "      <td>FT</td>\n",
       "      <td>347713.88</td>\n",
       "      <td>True</td>\n",
       "      <td>173.856940</td>\n",
       "    </tr>\n",
       "    <tr>\n",
       "      <th>31</th>\n",
       "      <td>110563</td>\n",
       "      <td>Kevin M Burke</td>\n",
       "      <td>Asst Chf of Dept (Fire Dept)</td>\n",
       "      <td>207437.76</td>\n",
       "      <td>38112.52</td>\n",
       "      <td>30767.56</td>\n",
       "      <td>66496.48</td>\n",
       "      <td>276317.84</td>\n",
       "      <td>342814.32</td>\n",
       "      <td>2014</td>\n",
       "      <td>San Francisco</td>\n",
       "      <td>FT</td>\n",
       "      <td>342814.32</td>\n",
       "      <td>True</td>\n",
       "      <td>171.407160</td>\n",
       "    </tr>\n",
       "    <tr>\n",
       "      <th>32</th>\n",
       "      <td>110564</td>\n",
       "      <td>Hector M Sainez</td>\n",
       "      <td>Deputy Chief 3</td>\n",
       "      <td>258957.00</td>\n",
       "      <td>0.00</td>\n",
       "      <td>6908.64</td>\n",
       "      <td>76330.35</td>\n",
       "      <td>265865.64</td>\n",
       "      <td>342195.99</td>\n",
       "      <td>2014</td>\n",
       "      <td>San Francisco</td>\n",
       "      <td>FT</td>\n",
       "      <td>342195.99</td>\n",
       "      <td>True</td>\n",
       "      <td>171.097995</td>\n",
       "    </tr>\n",
       "    <tr>\n",
       "      <th>33</th>\n",
       "      <td>110565</td>\n",
       "      <td>Marty A Ross</td>\n",
       "      <td>Battalion Chief, Fire Suppress</td>\n",
       "      <td>177771.08</td>\n",
       "      <td>62671.16</td>\n",
       "      <td>39322.25</td>\n",
       "      <td>62074.06</td>\n",
       "      <td>279764.49</td>\n",
       "      <td>341838.55</td>\n",
       "      <td>2014</td>\n",
       "      <td>San Francisco</td>\n",
       "      <td>FT</td>\n",
       "      <td>341838.55</td>\n",
       "      <td>True</td>\n",
       "      <td>170.919275</td>\n",
       "    </tr>\n",
       "    <tr>\n",
       "      <th>34</th>\n",
       "      <td>110566</td>\n",
       "      <td>Lorrie A Kalos</td>\n",
       "      <td>Battalion Chief, Fire Suppress</td>\n",
       "      <td>179464.20</td>\n",
       "      <td>62653.15</td>\n",
       "      <td>35768.93</td>\n",
       "      <td>60237.67</td>\n",
       "      <td>277886.28</td>\n",
       "      <td>338123.95</td>\n",
       "      <td>2014</td>\n",
       "      <td>San Francisco</td>\n",
       "      <td>FT</td>\n",
       "      <td>338123.95</td>\n",
       "      <td>True</td>\n",
       "      <td>169.061975</td>\n",
       "    </tr>\n",
       "    <tr>\n",
       "      <th>35</th>\n",
       "      <td>110567</td>\n",
       "      <td>Khairul A Ali</td>\n",
       "      <td>Battalion Chief, Fire Suppress</td>\n",
       "      <td>179464.21</td>\n",
       "      <td>71337.03</td>\n",
       "      <td>26022.22</td>\n",
       "      <td>59815.78</td>\n",
       "      <td>276823.46</td>\n",
       "      <td>336639.24</td>\n",
       "      <td>2014</td>\n",
       "      <td>San Francisco</td>\n",
       "      <td>FT</td>\n",
       "      <td>336639.24</td>\n",
       "      <td>True</td>\n",
       "      <td>168.319620</td>\n",
       "    </tr>\n",
       "    <tr>\n",
       "      <th>36</th>\n",
       "      <td>110568</td>\n",
       "      <td>Ai Kyung Chung</td>\n",
       "      <td>Anesthetist</td>\n",
       "      <td>241036.02</td>\n",
       "      <td>1695.66</td>\n",
       "      <td>15839.30</td>\n",
       "      <td>73815.54</td>\n",
       "      <td>258570.98</td>\n",
       "      <td>332386.52</td>\n",
       "      <td>2014</td>\n",
       "      <td>San Francisco</td>\n",
       "      <td>FT</td>\n",
       "      <td>332386.52</td>\n",
       "      <td>False</td>\n",
       "      <td>166.193260</td>\n",
       "    </tr>\n",
       "    <tr>\n",
       "      <th>37</th>\n",
       "      <td>110569</td>\n",
       "      <td>Michael P Carlin</td>\n",
       "      <td>Dep Dir V</td>\n",
       "      <td>254578.48</td>\n",
       "      <td>0.00</td>\n",
       "      <td>0.00</td>\n",
       "      <td>77512.96</td>\n",
       "      <td>254578.48</td>\n",
       "      <td>332091.44</td>\n",
       "      <td>2014</td>\n",
       "      <td>San Francisco</td>\n",
       "      <td>FT</td>\n",
       "      <td>332091.44</td>\n",
       "      <td>True</td>\n",
       "      <td>166.045720</td>\n",
       "    </tr>\n",
       "    <tr>\n",
       "      <th>38</th>\n",
       "      <td>110570</td>\n",
       "      <td>Sharon Ferrigno</td>\n",
       "      <td>Deputy Chief 3</td>\n",
       "      <td>243339.02</td>\n",
       "      <td>0.00</td>\n",
       "      <td>16225.16</td>\n",
       "      <td>72403.46</td>\n",
       "      <td>259564.18</td>\n",
       "      <td>331967.64</td>\n",
       "      <td>2014</td>\n",
       "      <td>San Francisco</td>\n",
       "      <td>FT</td>\n",
       "      <td>331967.64</td>\n",
       "      <td>True</td>\n",
       "      <td>165.983820</td>\n",
       "    </tr>\n",
       "    <tr>\n",
       "      <th>39</th>\n",
       "      <td>110571</td>\n",
       "      <td>Victor H Wyrsch</td>\n",
       "      <td>Battalion Chief, Fire Suppress</td>\n",
       "      <td>179464.20</td>\n",
       "      <td>62908.09</td>\n",
       "      <td>29118.60</td>\n",
       "      <td>58781.34</td>\n",
       "      <td>271490.89</td>\n",
       "      <td>330272.23</td>\n",
       "      <td>2014</td>\n",
       "      <td>San Francisco</td>\n",
       "      <td>FT</td>\n",
       "      <td>330272.23</td>\n",
       "      <td>True</td>\n",
       "      <td>165.136115</td>\n",
       "    </tr>\n",
       "  </tbody>\n",
       "</table>\n",
       "</div>"
      ],
      "text/plain": [
       "        Id           EmployeeName                        JobTitle    BasePay  \\\n",
       "0   110532            David Shinn                  Deputy Chief 3  129150.01   \n",
       "1   110533             Amy P Hart               Asst Med Examiner  318835.49   \n",
       "2   110534   William J Coaker Jr.        Chief Investment Officer  257340.00   \n",
       "3   110535         Gregory P Suhr                 Chief of Police  307450.04   \n",
       "4   110536   Joanne M Hayes-White          Chief, Fire Department  302068.00   \n",
       "5   110537        Ellen G Moffatt               Asst Med Examiner  270222.04   \n",
       "6   110538          John L Martin                     Dept Head V  311298.55   \n",
       "7   110539      Harlan L Kelly-Jr     Executive Contract Employee  310161.02   \n",
       "8   110540             Samson Lai  Battalion Chief, Fire Suppress  179464.14   \n",
       "9   110541       David L Franklin    Asst Chf of Dept (Fire Dept)  201566.88   \n",
       "10  110542       Edward D Reiskin      Gen Mgr, Public Trnsp Dept  294000.18   \n",
       "11  110543            Yifang Qian     Senior Physician Specialist  198874.01   \n",
       "12  110544      Richard L Corriea                     Commander 3  184734.01   \n",
       "13  110545       Raymond A Guzman     Dep Chf of Dept (Fire Dept)  260728.04   \n",
       "14  110546            Jose L Velo  Battalion Chief, Fire Suppress  183333.82   \n",
       "15  110547     Bryan W Rubenstein  Battalion Chief, Fire Suppress  177771.16   \n",
       "16  110548         Roland Pickens              Administrator, DPH  282619.96   \n",
       "17  110549        Mark A Gonzales     Dep Chf of Dept (Fire Dept)  260728.00   \n",
       "18  110550       Barbara A Garcia                     Dept Head V  279839.22   \n",
       "19  110551            Edwin M Lee                           Mayor  281537.17   \n",
       "20  110552      Thomas A Siragusa    Asst Chf of Dept (Fire Dept)  207437.76   \n",
       "21  110553       Denise A Schmitt                  Deputy Chief 3  268632.02   \n",
       "22  110554            Lyn Tomioka                  Deputy Chief 3  268632.00   \n",
       "23  110555        Arthur W Kenney    Asst Chf of Dept (Fire Dept)  207437.76   \n",
       "24  110556         Greg B Pizarro               Asst Med Examiner  233386.01   \n",
       "25  110557          Charlie Orkes                  Deputy Chief 3  265729.53   \n",
       "26  110558           Susan Currin        Adm, SFGH Medical Center  268946.02   \n",
       "27  110559          Naomi M Kelly                     Dept Head V  267914.01   \n",
       "28  110560         Trent E Rhorer                     Dept Head V  267914.00   \n",
       "29  110561  Benjamin L Rosenfield                      Controller  267914.00   \n",
       "30  110562            Jay P Huish                     Dept Head V  267914.00   \n",
       "31  110563          Kevin M Burke    Asst Chf of Dept (Fire Dept)  207437.76   \n",
       "32  110564        Hector M Sainez                  Deputy Chief 3  258957.00   \n",
       "33  110565           Marty A Ross  Battalion Chief, Fire Suppress  177771.08   \n",
       "34  110566         Lorrie A Kalos  Battalion Chief, Fire Suppress  179464.20   \n",
       "35  110567          Khairul A Ali  Battalion Chief, Fire Suppress  179464.21   \n",
       "36  110568         Ai Kyung Chung                     Anesthetist  241036.02   \n",
       "37  110569       Michael P Carlin                       Dep Dir V  254578.48   \n",
       "38  110570        Sharon Ferrigno                  Deputy Chief 3  243339.02   \n",
       "39  110571        Victor H Wyrsch  Battalion Chief, Fire Suppress  179464.20   \n",
       "\n",
       "    OvertimePay   OtherPay  Benefits   TotalPay  TotalPayBenefits  Year  \\\n",
       "0          0.00  342802.63  38780.04  471952.64         510732.68  2014   \n",
       "1      10712.95   60563.54  89540.23  390111.98         479652.21  2014   \n",
       "2          0.00   82313.70  96570.66  339653.70         436224.36  2014   \n",
       "3          0.00   19266.72  91302.46  326716.76         418019.22  2014   \n",
       "4          0.00   24165.44  91201.66  326233.44         417435.10  2014   \n",
       "5       6009.22   67956.20  71580.48  344187.46         415767.94  2014   \n",
       "6          0.00       0.00  89772.32  311298.55         401070.87  2014   \n",
       "7          0.00       0.00  88823.51  310161.02         398984.53  2014   \n",
       "8     128685.99   27334.83  59876.90  335484.96         395361.86  2014   \n",
       "9      97907.38   29916.28  64599.59  329390.54         393990.13  2014   \n",
       "10         0.00       0.00  85918.54  294000.18         379918.72  2014   \n",
       "11         0.00  112776.35  62947.63  311650.36         374597.99  2014   \n",
       "12         0.00  137409.09  51940.39  322143.10         374083.49  2014   \n",
       "13         0.00   26761.80  82974.58  287489.84         370464.42  2014   \n",
       "14    100005.66   23760.13  61052.39  307099.61         368152.00  2014   \n",
       "15     91547.61   36798.76  59664.91  306117.53         365782.44  2014   \n",
       "16         0.00       0.00  82941.18  282619.96         365561.14  2014   \n",
       "17         0.00   22933.73  81886.55  283661.73         365548.28  2014   \n",
       "18         0.00    2164.54  82884.27  282003.76         364888.03  2014   \n",
       "19         0.00       0.00  83277.34  281537.17         364814.51  2014   \n",
       "20     67712.84   20743.71  64549.50  295894.31         360443.81  2014   \n",
       "21         0.00    6192.08  80475.76  274824.10         355299.86  2014   \n",
       "22         0.00    6192.08  80475.74  274824.08         355299.82  2014   \n",
       "23     31868.28   49941.59  64549.50  289247.63         353797.13  2014   \n",
       "24     10794.09   40515.00  66559.68  284695.10         351254.78  2014   \n",
       "25         0.00    6134.00  78447.40  271863.53         350310.93  2014   \n",
       "26         0.00       0.00  80581.73  268946.02         349527.75  2014   \n",
       "27         0.00       0.00  80361.22  267914.01         348275.23  2014   \n",
       "28         0.00       0.00  79799.88  267914.00         347713.88  2014   \n",
       "29         0.00       0.00  79799.88  267914.00         347713.88  2014   \n",
       "30         0.00       0.00  79799.88  267914.00         347713.88  2014   \n",
       "31     38112.52   30767.56  66496.48  276317.84         342814.32  2014   \n",
       "32         0.00    6908.64  76330.35  265865.64         342195.99  2014   \n",
       "33     62671.16   39322.25  62074.06  279764.49         341838.55  2014   \n",
       "34     62653.15   35768.93  60237.67  277886.28         338123.95  2014   \n",
       "35     71337.03   26022.22  59815.78  276823.46         336639.24  2014   \n",
       "36      1695.66   15839.30  73815.54  258570.98         332386.52  2014   \n",
       "37         0.00       0.00  77512.96  254578.48         332091.44  2014   \n",
       "38         0.00   16225.16  72403.46  259564.18         331967.64  2014   \n",
       "39     62908.09   29118.60  58781.34  271490.89         330272.23  2014   \n",
       "\n",
       "           Agency Status  TotalPayBenefitsFormula  check  Hourly_Wage  \n",
       "0   San Francisco     PT                510732.68   True   255.366340  \n",
       "1   San Francisco     FT                479652.21  False   239.826105  \n",
       "2   San Francisco     PT                436224.36   True   218.112180  \n",
       "3   San Francisco     FT                418019.22  False   209.009610  \n",
       "4   San Francisco     FT                417435.10   True   208.717550  \n",
       "5   San Francisco     FT                415767.94  False   207.883970  \n",
       "6   San Francisco     FT                401070.87   True   200.535435  \n",
       "7   San Francisco     FT                398984.53   True   199.492265  \n",
       "8   San Francisco     FT                395361.86  False   197.680930  \n",
       "9   San Francisco     FT                393990.13   True   196.995065  \n",
       "10  San Francisco     FT                379918.72   True   189.959360  \n",
       "11  San Francisco     FT                374597.99   True   187.298995  \n",
       "12  San Francisco     PT                374083.49   True   187.041745  \n",
       "13  San Francisco     FT                370464.42  False   185.232210  \n",
       "14  San Francisco     FT                368152.00   True   184.076000  \n",
       "15  San Francisco     FT                365782.44  False   182.891220  \n",
       "16  San Francisco     FT                365561.14   True   182.780570  \n",
       "17  San Francisco     FT                365548.28  False   182.774140  \n",
       "18  San Francisco     FT                364888.03  False   182.444015  \n",
       "19  San Francisco     FT                364814.51   True   182.407255  \n",
       "20  San Francisco     FT                360443.81   True   180.221905  \n",
       "21  San Francisco     FT                355299.86  False   177.649930  \n",
       "22  San Francisco     FT                355299.82   True   177.649910  \n",
       "23  San Francisco     FT                353797.13   True   176.898565  \n",
       "24  San Francisco     FT                351254.78  False   175.627390  \n",
       "25  San Francisco     FT                350310.93  False   175.155465  \n",
       "26  San Francisco     FT                349527.75   True   174.763875  \n",
       "27  San Francisco     FT                348275.23   True   174.137615  \n",
       "28  San Francisco     FT                347713.88   True   173.856940  \n",
       "29  San Francisco     FT                347713.88   True   173.856940  \n",
       "30  San Francisco     FT                347713.88   True   173.856940  \n",
       "31  San Francisco     FT                342814.32   True   171.407160  \n",
       "32  San Francisco     FT                342195.99   True   171.097995  \n",
       "33  San Francisco     FT                341838.55   True   170.919275  \n",
       "34  San Francisco     FT                338123.95   True   169.061975  \n",
       "35  San Francisco     FT                336639.24   True   168.319620  \n",
       "36  San Francisco     FT                332386.52  False   166.193260  \n",
       "37  San Francisco     FT                332091.44   True   166.045720  \n",
       "38  San Francisco     FT                331967.64   True   165.983820  \n",
       "39  San Francisco     FT                330272.23   True   165.136115  "
      ]
     },
     "execution_count": 19,
     "metadata": {},
     "output_type": "execute_result"
    }
   ],
   "source": [
    "# Computing the \"Hourly_Wage\"\n",
    "salaries['Hourly_Wage'] = (salaries['TotalPayBenefits']/50)/40\n",
    "salaries.head(40)"
   ]
  },
  {
   "cell_type": "code",
   "execution_count": 20,
   "metadata": {},
   "outputs": [],
   "source": [
    "# Computing the mean hourly wage for all the \"FT\" employees\n",
    "ft_grouped = salaries[salaries['Status'] == 'FT']\n",
    "ft_hourly_wage = ft_grouped['Hourly_Wage']\n",
    "ft_hourly_wage_mean = ft_grouped['Hourly_Wage'].mean()\n",
    "ft_hourly_wage_n = len(ft_hourly_wage)"
   ]
  },
  {
   "cell_type": "markdown",
   "metadata": {},
   "source": [
    "### Hypothesis parameters and information\n",
    "\n",
    "- H0: Hourly wage of all FT workers != 75 dolars/hr \n",
    "- H1: Hourly wage of all FT workers = 75 dolars/hr\n",
    "- Confidence interval = 95%\n",
    "- Alpha = 0.05\n",
    "- Sample mean = 69.264206407271\n",
    "- Sample size = 22334 (> 30)"
   ]
  },
  {
   "cell_type": "code",
   "execution_count": 21,
   "metadata": {},
   "outputs": [
    {
     "name": "stdout",
     "output_type": "stream",
     "text": [
      "T_statistic is: -35.80631941460788\n"
     ]
    }
   ],
   "source": [
    "# Your code here: (compute the t_statistic). Take into account that this dataset is a sample of a real population.\n",
    "# Remember that you only need to consider \"FT\" employees\n",
    "import scipy.stats\n",
    "\n",
    "t_statistic_ft = (np.mean(ft_hourly_wage) - 75)/ (np.std(ft_hourly_wage, ddof=1)/np.sqrt(len(ft_hourly_wage)))\n",
    "print('T_statistic is:', t_statistic_ft)"
   ]
  },
  {
   "cell_type": "code",
   "execution_count": 22,
   "metadata": {},
   "outputs": [
    {
     "name": "stdout",
     "output_type": "stream",
     "text": [
      "Critical values are + 1.959963984540054  and - 1.959963984540054\n"
     ]
    }
   ],
   "source": [
    "# Method 1: Critical value. Get the critical value and compare it against your statisttic.\n",
    "critical_val_ft = scipy.stats.norm.ppf(1-(0.05/2))\n",
    "print('Critical values are +', critical_val_ft,' and -', critical_val_ft)"
   ]
  },
  {
   "cell_type": "markdown",
   "metadata": {
    "colab": {
     "base_uri": "https://localhost:8080/"
    },
    "id": "uel9UMe2zSyH",
    "outputId": "34d5376a-3e12-49c4-a8e8-85210c27e96a",
    "scrolled": true
   },
   "source": [
    "Our t_statistic (-35.80) is much smaller than the critical value (-1.9599), so we can *reject* the null hypothesis than the hourly_wage of all FT workers is significantly different than 75 dolars per hour."
   ]
  },
  {
   "cell_type": "code",
   "execution_count": 23,
   "metadata": {},
   "outputs": [],
   "source": [
    "# Method 2: Use the p-value method.\n",
    "# Your code here:"
   ]
  },
  {
   "cell_type": "code",
   "execution_count": 24,
   "metadata": {
    "colab": {
     "base_uri": "https://localhost:8080/"
    },
    "id": "R4yteKjgzSyH",
    "outputId": "e78f6ef3-42c0-40f3-a24a-21f0d30ca56c"
   },
   "outputs": [
    {
     "name": "stdout",
     "output_type": "stream",
     "text": [
      "P-value is 4.4031259419579245e-281\n"
     ]
    }
   ],
   "source": [
    "pval_ft = scipy.stats.norm.cdf(-35.80631941460788)\n",
    "print('P-value is', pval_ft) #P-value super close to 0, we would REJECT the NULL HYPOTHESIS"
   ]
  },
  {
   "cell_type": "code",
   "execution_count": 25,
   "metadata": {},
   "outputs": [
    {
     "name": "stdout",
     "output_type": "stream",
     "text": [
      "T_statistic is: -35.80631941460526\n",
      "P-value is: 4.517831233839448e-273\n"
     ]
    }
   ],
   "source": [
    "# Method 3: Use the ttest_1samp function from scipy. \n",
    "# Check the documentation [here](https://docs.scipy.org/doc/scipy/reference/generated/scipy.stats.ttest_1samp.html)\n",
    "# Make sure that you have a scipy version >=1.6.0. If that's not your case please ugrade your scipy version using\n",
    "# !pip install -U scipy\n",
    "# Your code here:\n",
    "\n",
    "from scipy.stats import ttest_1samp\n",
    "\n",
    "# ttest_1samp(sample, population_mean)\n",
    "stat, pval = ttest_1samp(ft_hourly_wage, popmean = 75, alternative = \"two-sided\")\n",
    "print('T_statistic is:', stat)\n",
    "print('P-value is:', pval)"
   ]
  },
  {
   "cell_type": "markdown",
   "metadata": {
    "id": "YvxOReoszSyI"
   },
   "source": [
    "Are all the methods in agreement?"
   ]
  },
  {
   "cell_type": "markdown",
   "metadata": {},
   "source": [
    "*Yes, the t-statistic suggests we should reject the null hypothesis, same as the p-value.*"
   ]
  },
  {
   "cell_type": "markdown",
   "metadata": {},
   "source": [
    "## ----------------------------------------- ##"
   ]
  },
  {
   "cell_type": "markdown",
   "metadata": {
    "id": "6W3OpLYuzSyI"
   },
   "source": [
    "We are also curious about salaries in the police force. The chief of police in Chicago claimed in a press briefing that salaries this year are **higher than last year's mean of $86000/year for all salaried employees** (use the column \"TotalPayBenefits\". Test  hypothesis using a 95% confidence interval.\n",
    "\n",
    "Hint: Use apply and a lambda function to check in \"Police\" is in the \"JobTitle\" to get all the \"Police\" jobs."
   ]
  },
  {
   "cell_type": "code",
   "execution_count": 26,
   "metadata": {},
   "outputs": [
    {
     "name": "stdout",
     "output_type": "stream",
     "text": [
      "3      418019.22\n",
      "86     301749.81\n",
      "143    289114.95\n",
      "181    280222.76\n",
      "300    267235.00\n",
      "Name: TotalPayBenefits, dtype: float64\n"
     ]
    }
   ],
   "source": [
    "police_job = salaries['JobTitle'].apply(lambda x: 'Police' in x)\n",
    "police_job_idx = police_job[police_job == True].index\n",
    "police_salaries = salaries.loc[police_job_idx, 'TotalPayBenefits']\n",
    "print(police_salaries.head())"
   ]
  },
  {
   "cell_type": "markdown",
   "metadata": {},
   "source": [
    "#### Some comments:\n",
    "- H0: Police salaries are > than 86.000 dolars / year for all salaried employees\n",
    "- H1: Police salaries are <= than 86.000 dolars / year for all salaried employees\n",
    "- Confidence interval: 95%\n",
    "- Alpha: 0.05\n",
    "- Sample size = 1901 (>30)"
   ]
  },
  {
   "cell_type": "code",
   "execution_count": 27,
   "metadata": {},
   "outputs": [],
   "source": [
    "# Your code here: (compute the t_statistic). Take into account that this dataset is a sample of a real population.\n",
    "# Remember that you only need to consider \"Police\" employees"
   ]
  },
  {
   "cell_type": "code",
   "execution_count": 28,
   "metadata": {
    "colab": {
     "base_uri": "https://localhost:8080/"
    },
    "id": "SZJ_pHiUzSyI",
    "outputId": "1b3fe9d9-2589-4afa-d7b0-4d09251a3ba3"
   },
   "outputs": [
    {
     "name": "stdout",
     "output_type": "stream",
     "text": [
      "T_statistic for police salaries hypothesis is: 50.252984742109916\n"
     ]
    }
   ],
   "source": [
    "t_statistic_ps = (np.mean(police_salaries) - 86000)/ (np.std(police_salaries, ddof=1)/np.sqrt(len(police_salaries)))\n",
    "print('T_statistic for police salaries hypothesis is:', t_statistic_ps)"
   ]
  },
  {
   "cell_type": "code",
   "execution_count": 29,
   "metadata": {
    "colab": {
     "base_uri": "https://localhost:8080/"
    },
    "id": "MQec5gU6zSyJ",
    "outputId": "bc66c72a-9154-4a15-ca3a-6f59e30e1b1c"
   },
   "outputs": [
    {
     "name": "stdout",
     "output_type": "stream",
     "text": [
      "Critical value is: 1.6448536269514722\n"
     ]
    }
   ],
   "source": [
    "# Method 1: Critical value. Get the critical value and compare it against your statisttic.\n",
    "critical_val_ps = scipy.stats.norm.ppf(0.95)\n",
    "print('Critical value is:', critical_val_ps)"
   ]
  },
  {
   "cell_type": "code",
   "execution_count": 30,
   "metadata": {},
   "outputs": [],
   "source": [
    "# Method 2: Use the p-value method."
   ]
  },
  {
   "cell_type": "code",
   "execution_count": 31,
   "metadata": {
    "colab": {
     "base_uri": "https://localhost:8080/"
    },
    "id": "zVwWqhkOzSyJ",
    "outputId": "039b9c5f-b817-47ed-d4dc-686673241b9b"
   },
   "outputs": [
    {
     "name": "stdout",
     "output_type": "stream",
     "text": [
      "P-value is 1.0\n"
     ]
    }
   ],
   "source": [
    "pval_ps = scipy.stats.norm.cdf(t_statistic_ps)\n",
    "print('P-value is', pval_ps) "
   ]
  },
  {
   "cell_type": "code",
   "execution_count": 32,
   "metadata": {},
   "outputs": [],
   "source": [
    "# Method 3: Use the ttest_1samp function from scipy. \n",
    "# Check the documentation [here](https://docs.scipy.org/doc/scipy/reference/generated/scipy.stats.ttest_1samp.html)\n",
    "# Make sure that you have a scipy version >=1.6.0. If that's not your case please ugrade your scipy version using\n",
    "# !pip install -U scipy"
   ]
  },
  {
   "cell_type": "code",
   "execution_count": 33,
   "metadata": {
    "colab": {
     "base_uri": "https://localhost:8080/"
    },
    "id": "INGCUoXHzSyJ",
    "outputId": "0add2f05-e1c9-4a2c-c91d-731183b8463e"
   },
   "outputs": [
    {
     "name": "stdout",
     "output_type": "stream",
     "text": [
      "T_statistic is: 50.252984742109945\n",
      "P-value is: 1.0\n"
     ]
    }
   ],
   "source": [
    "stat, pval = ttest_1samp(police_salaries, popmean = 86000, alternative = \"less\")\n",
    "print('T_statistic is:', stat)\n",
    "print('P-value is:', pval)"
   ]
  },
  {
   "cell_type": "markdown",
   "metadata": {},
   "source": [
    "*T_statistic is on the right side, very far from the critical value (rejection area on the left hand side). Also, the p-value is higher than 0.05, so both statistics indicate that we should ACCEPT the null hypothesis.*"
   ]
  },
  {
   "cell_type": "markdown",
   "metadata": {},
   "source": [
    "## ---------------------------------------- ##"
   ]
  },
  {
   "cell_type": "markdown",
   "metadata": {
    "id": "wPCpi313zSyJ"
   },
   "source": [
    "The workers from the \"JobTitle\" with the most employees have complained that their hourly wage is **less than $35/hour**. Using a one sample t-test, test this one-sided hypothesis at the 95% confidence level."
   ]
  },
  {
   "cell_type": "markdown",
   "metadata": {},
   "source": [
    "#### Comments:\n",
    "- H0: transit operators hourly wage < 35 dolars / hour\n",
    "- H1: transit operators hourly wage >= 35 dolars / hour\n",
    "- Sample size: 2479 (>30)\n",
    "- Sample mean: 43.35949773900775\n",
    "- Confidence interval: 95%\n",
    "- Alpha: 0.05"
   ]
  },
  {
   "cell_type": "code",
   "execution_count": 34,
   "metadata": {},
   "outputs": [
    {
     "name": "stdout",
     "output_type": "stream",
     "text": [
      "The department which has most employees is: Transit Operator\n"
     ]
    }
   ],
   "source": [
    "# Getting the department which has most employees\n",
    "print('The department which has most employees is:', employee_by_dept.idxmax()[0])"
   ]
  },
  {
   "cell_type": "code",
   "execution_count": 35,
   "metadata": {
    "colab": {
     "base_uri": "https://localhost:8080/",
     "height": 35
    },
    "id": "m6X0DN4czSyJ",
    "outputId": "ed950bc6-1be7-4df6-be61-977bfb95d375"
   },
   "outputs": [
    {
     "name": "stdout",
     "output_type": "stream",
     "text": [
      "Sample size: 2479\n",
      "Sample mean: 43.35949773900775\n"
     ]
    },
    {
     "data": {
      "text/html": [
       "<div>\n",
       "<style scoped>\n",
       "    .dataframe tbody tr th:only-of-type {\n",
       "        vertical-align: middle;\n",
       "    }\n",
       "\n",
       "    .dataframe tbody tr th {\n",
       "        vertical-align: top;\n",
       "    }\n",
       "\n",
       "    .dataframe thead th {\n",
       "        text-align: right;\n",
       "    }\n",
       "</style>\n",
       "<table border=\"1\" class=\"dataframe\">\n",
       "  <thead>\n",
       "    <tr style=\"text-align: right;\">\n",
       "      <th></th>\n",
       "      <th>Id</th>\n",
       "      <th>EmployeeName</th>\n",
       "      <th>JobTitle</th>\n",
       "      <th>BasePay</th>\n",
       "      <th>OvertimePay</th>\n",
       "      <th>OtherPay</th>\n",
       "      <th>Benefits</th>\n",
       "      <th>TotalPay</th>\n",
       "      <th>TotalPayBenefits</th>\n",
       "      <th>Year</th>\n",
       "      <th>Agency</th>\n",
       "      <th>Status</th>\n",
       "      <th>TotalPayBenefitsFormula</th>\n",
       "      <th>check</th>\n",
       "      <th>Hourly_Wage</th>\n",
       "    </tr>\n",
       "  </thead>\n",
       "  <tbody>\n",
       "    <tr>\n",
       "      <th>3223</th>\n",
       "      <td>113755</td>\n",
       "      <td>Nancy Padilla</td>\n",
       "      <td>Transit Operator</td>\n",
       "      <td>70636.56</td>\n",
       "      <td>78492.00</td>\n",
       "      <td>6636.63</td>\n",
       "      <td>38481.57</td>\n",
       "      <td>155765.19</td>\n",
       "      <td>194246.76</td>\n",
       "      <td>2014</td>\n",
       "      <td>San Francisco</td>\n",
       "      <td>FT</td>\n",
       "      <td>194246.76</td>\n",
       "      <td>True</td>\n",
       "      <td>97.123380</td>\n",
       "    </tr>\n",
       "    <tr>\n",
       "      <th>3537</th>\n",
       "      <td>114069</td>\n",
       "      <td>Louis E Galarce</td>\n",
       "      <td>Transit Operator</td>\n",
       "      <td>71278.32</td>\n",
       "      <td>73221.72</td>\n",
       "      <td>6785.53</td>\n",
       "      <td>38861.51</td>\n",
       "      <td>151285.57</td>\n",
       "      <td>190147.08</td>\n",
       "      <td>2014</td>\n",
       "      <td>San Francisco</td>\n",
       "      <td>FT</td>\n",
       "      <td>190147.08</td>\n",
       "      <td>False</td>\n",
       "      <td>95.073540</td>\n",
       "    </tr>\n",
       "    <tr>\n",
       "      <th>3766</th>\n",
       "      <td>114298</td>\n",
       "      <td>Duane Allen</td>\n",
       "      <td>Transit Operator</td>\n",
       "      <td>70029.28</td>\n",
       "      <td>69941.99</td>\n",
       "      <td>8592.74</td>\n",
       "      <td>38733.41</td>\n",
       "      <td>148564.01</td>\n",
       "      <td>187297.42</td>\n",
       "      <td>2014</td>\n",
       "      <td>San Francisco</td>\n",
       "      <td>FT</td>\n",
       "      <td>187297.42</td>\n",
       "      <td>True</td>\n",
       "      <td>93.648710</td>\n",
       "    </tr>\n",
       "    <tr>\n",
       "      <th>4380</th>\n",
       "      <td>114912</td>\n",
       "      <td>Jaime O Olivar</td>\n",
       "      <td>Transit Operator</td>\n",
       "      <td>68842.56</td>\n",
       "      <td>65726.67</td>\n",
       "      <td>8828.06</td>\n",
       "      <td>38206.75</td>\n",
       "      <td>143397.29</td>\n",
       "      <td>181604.04</td>\n",
       "      <td>2014</td>\n",
       "      <td>San Francisco</td>\n",
       "      <td>FT</td>\n",
       "      <td>181604.04</td>\n",
       "      <td>False</td>\n",
       "      <td>90.802020</td>\n",
       "    </tr>\n",
       "    <tr>\n",
       "      <th>4891</th>\n",
       "      <td>115423</td>\n",
       "      <td>Freeman Chee</td>\n",
       "      <td>Transit Operator</td>\n",
       "      <td>69777.22</td>\n",
       "      <td>60584.96</td>\n",
       "      <td>8146.38</td>\n",
       "      <td>38480.23</td>\n",
       "      <td>138508.56</td>\n",
       "      <td>176988.79</td>\n",
       "      <td>2014</td>\n",
       "      <td>San Francisco</td>\n",
       "      <td>FT</td>\n",
       "      <td>176988.79</td>\n",
       "      <td>True</td>\n",
       "      <td>88.494395</td>\n",
       "    </tr>\n",
       "  </tbody>\n",
       "</table>\n",
       "</div>"
      ],
      "text/plain": [
       "          Id     EmployeeName          JobTitle   BasePay  OvertimePay  \\\n",
       "3223  113755    Nancy Padilla  Transit Operator  70636.56     78492.00   \n",
       "3537  114069  Louis E Galarce  Transit Operator  71278.32     73221.72   \n",
       "3766  114298      Duane Allen  Transit Operator  70029.28     69941.99   \n",
       "4380  114912   Jaime O Olivar  Transit Operator  68842.56     65726.67   \n",
       "4891  115423     Freeman Chee  Transit Operator  69777.22     60584.96   \n",
       "\n",
       "      OtherPay  Benefits   TotalPay  TotalPayBenefits  Year         Agency  \\\n",
       "3223   6636.63  38481.57  155765.19         194246.76  2014  San Francisco   \n",
       "3537   6785.53  38861.51  151285.57         190147.08  2014  San Francisco   \n",
       "3766   8592.74  38733.41  148564.01         187297.42  2014  San Francisco   \n",
       "4380   8828.06  38206.75  143397.29         181604.04  2014  San Francisco   \n",
       "4891   8146.38  38480.23  138508.56         176988.79  2014  San Francisco   \n",
       "\n",
       "     Status  TotalPayBenefitsFormula  check  Hourly_Wage  \n",
       "3223     FT                194246.76   True    97.123380  \n",
       "3537     FT                190147.08  False    95.073540  \n",
       "3766     FT                187297.42   True    93.648710  \n",
       "4380     FT                181604.04  False    90.802020  \n",
       "4891     FT                176988.79   True    88.494395  "
      ]
     },
     "execution_count": 35,
     "metadata": {},
     "output_type": "execute_result"
    }
   ],
   "source": [
    "transit_ops_hw = salaries[salaries['JobTitle'] == 'Transit Operator']\n",
    "print('Sample size:', len(transit_ops_hw))\n",
    "print('Sample mean:', transit_ops_hw['Hourly_Wage'].mean())\n",
    "transit_ops_hw.head()"
   ]
  },
  {
   "cell_type": "code",
   "execution_count": 36,
   "metadata": {},
   "outputs": [],
   "source": [
    "# Your code here: (compute the t_statistic). Take into account that this dataset is a sample of a real population.\n",
    "# Remember that you only need to consider the right \"JobTitle\" employees"
   ]
  },
  {
   "cell_type": "code",
   "execution_count": 37,
   "metadata": {
    "colab": {
     "base_uri": "https://localhost:8080/"
    },
    "id": "ifyDMFLXzSyJ",
    "outputId": "f350c751-9253-4140-a377-36c8112afc74"
   },
   "outputs": [
    {
     "name": "stdout",
     "output_type": "stream",
     "text": [
      "T_statistic for transit operators hypothesis is: 19.064990324906553\n"
     ]
    }
   ],
   "source": [
    "t_statistic_to = (np.mean(transit_ops_hw['Hourly_Wage']) - 35)/ (np.std(transit_ops_hw['Hourly_Wage'], ddof=1)/np.sqrt(len(transit_ops_hw)))\n",
    "print('T_statistic for transit operators hypothesis is:', t_statistic_to)"
   ]
  },
  {
   "cell_type": "code",
   "execution_count": 38,
   "metadata": {},
   "outputs": [
    {
     "name": "stdout",
     "output_type": "stream",
     "text": [
      "Critical value is: 1.6448536269514722\n"
     ]
    }
   ],
   "source": [
    "# Method 1: Critical value.\n",
    "critical_val_to = scipy.stats.norm.ppf(0.95)\n",
    "print('Critical value is:', critical_val_to)"
   ]
  },
  {
   "cell_type": "code",
   "execution_count": 39,
   "metadata": {},
   "outputs": [
    {
     "name": "stdout",
     "output_type": "stream",
     "text": [
      "P-value is 1.0\n"
     ]
    }
   ],
   "source": [
    "# Method 2: Use the p-value method.\n",
    "pval_to = scipy.stats.norm.cdf(t_statistic_to)\n",
    "print('P-value is', pval_to) "
   ]
  },
  {
   "cell_type": "code",
   "execution_count": 40,
   "metadata": {
    "colab": {
     "base_uri": "https://localhost:8080/"
    },
    "id": "EmIpVMd0zSyK",
    "outputId": "00cb8466-e885-4acb-9015-6d54b61b1c7d"
   },
   "outputs": [
    {
     "name": "stdout",
     "output_type": "stream",
     "text": [
      "T_statistic is: 19.064990324906383\n",
      "P-value is: 5.012771694204207e-76\n"
     ]
    }
   ],
   "source": [
    "# Method 3: Use the ttest_1samp function from scipy. \n",
    "# Check the documentation [here](https://docs.scipy.org/doc/scipy/reference/generated/scipy.stats.ttest_1samp.html)\n",
    "# Make sure that you have a scipy version >=1.6.0. If that's not your case please ugrade your scipy version using\n",
    "stat, pval = ttest_1samp(transit_ops_hw['Hourly_Wage'], popmean = 35, alternative = \"greater\")\n",
    "print('T_statistic is:', stat)\n",
    "print('P-value is:', pval)"
   ]
  },
  {
   "cell_type": "markdown",
   "metadata": {
    "colab": {
     "base_uri": "https://localhost:8080/"
    },
    "id": "lxmOkkIIzSyK",
    "outputId": "989799b7-3304-4954-e268-9b190515eb4b"
   },
   "source": [
    "*P-values don't coincide. Other than that, if we consider the t-statistics and the P-value of ttest_1samp, we would REJECT the null hypothesis (rejection area on the right hand side).*"
   ]
  },
  {
   "cell_type": "markdown",
   "metadata": {
    "id": "ZNtFKSmuzSyK"
   },
   "source": [
    "# Challenge 3: To practice - Constructing Confidence Intervals\n",
    "\n",
    "While testing our hypothesis is a great way to gather empirical evidence for accepting or rejecting the hypothesis, another way to gather evidence is by creating a confidence interval. A confidence interval gives us information about the true mean of the population. So for a 95% confidence interval, we are 95% sure that the mean of the population is within the confidence interval. \n",
    ").\n",
    "\n",
    "To read more about confidence intervals, click [here](https://en.wikipedia.org/wiki/Confidence_interval).\n",
    "\n",
    "\n",
    "In the cell below, we will construct a 95% confidence interval for the mean hourly wage of all hourly workers. \n",
    "\n",
    "To compute the confidence interval of the hourly wage, use the 0.95 for the confidence level."
   ]
  },
  {
   "cell_type": "code",
   "execution_count": 41,
   "metadata": {},
   "outputs": [
    {
     "name": "stdout",
     "output_type": "stream",
     "text": [
      "Hourly Wage mean for all workers: 50.13\n",
      "Sample standard error: 0.17\n"
     ]
    }
   ],
   "source": [
    "# Sample mean\n",
    "confidence_level = 0.95\n",
    "hw_mean = salaries['Hourly_Wage'].mean()\n",
    "sse = scipy.stats.sem(salaries['Hourly_Wage']) \n",
    "print('Hourly Wage mean for all workers:', round(hw_mean,2))\n",
    "print('Sample standard error:', round(sse,2))"
   ]
  },
  {
   "cell_type": "code",
   "execution_count": 42,
   "metadata": {},
   "outputs": [
    {
     "name": "stdout",
     "output_type": "stream",
     "text": [
      "Confidence interval: (49.79826596983879, 50.463172698540085)\n"
     ]
    }
   ],
   "source": [
    "confidence_interval = scipy.stats.norm.interval(confidence_level, \n",
    "                                             hw_mean, \n",
    "                                             sse)\n",
    "print('Confidence interval:', confidence_interval)"
   ]
  },
  {
   "cell_type": "markdown",
   "metadata": {
    "id": "K3FbLwVjzSyL"
   },
   "source": [
    "Now compute a 95% confidence interval for the hourly salary of all the Police employees."
   ]
  },
  {
   "cell_type": "code",
   "execution_count": 43,
   "metadata": {},
   "outputs": [
    {
     "name": "stdout",
     "output_type": "stream",
     "text": [
      "Hourly Wage mean for police workers: 74.17\n",
      "Sample standard error: 0.62\n"
     ]
    }
   ],
   "source": [
    "confidence_level_ps = 0.95\n",
    "police_hw = salaries.loc[police_job_idx, 'Hourly_Wage']\n",
    "police_hw_mean = police_hw.mean()\n",
    "sse_ps = scipy.stats.sem(police_hw) \n",
    "print('Hourly Wage mean for police workers:', round(police_hw_mean,2))\n",
    "print('Sample standard error:', round(sse_ps,2))"
   ]
  },
  {
   "cell_type": "code",
   "execution_count": 44,
   "metadata": {
    "colab": {
     "base_uri": "https://localhost:8080/"
    },
    "id": "kJHkhMr6zSyL",
    "outputId": "9e39906c-f69b-462d-ebd4-af1dfcac014b"
   },
   "outputs": [
    {
     "name": "stdout",
     "output_type": "stream",
     "text": [
      "Confidence interval: (72.9586542074945, 75.3903879177025)\n"
     ]
    }
   ],
   "source": [
    "confidence_interval_ps = scipy.stats.norm.interval(confidence_level_ps, \n",
    "                                             police_hw_mean, \n",
    "                                             sse_ps)\n",
    "print('Confidence interval:', confidence_interval_ps)"
   ]
  },
  {
   "cell_type": "markdown",
   "metadata": {
    "id": "weFO_tpszSyL"
   },
   "source": [
    "# Chi2 test"
   ]
  },
  {
   "cell_type": "markdown",
   "metadata": {
    "id": "HfCTSUjSzSyL"
   },
   "source": [
    "Now we want to know if the amount of full time \"FT\" and part time \"PT\" employees is equal between Lawers, Meds, Police, Firemen and other departments. \n",
    "\n",
    "Considering all the options in this groups of employees will be very time consuming. To simplify this process, create first a function that returns:\n",
    "\n",
    "* \"Policemen\" if \"Police\" is found on \"JobTitle\"\n",
    "* \"Firemen\" if \"Fire\" is found on \"JobTitle\"\n",
    "* \"Medical\" if \"Med\" or \"Nurse\" is found on \"JobTitle\"\n",
    "* \"Lawyer\" if \"Attorney\" is found on \"JobTitle\"\n",
    "* \"Other\" in any other cases\n",
    "\n",
    "Then, create a new column named \"employee_group\" that determines to which group belong the employee. "
   ]
  },
  {
   "cell_type": "code",
   "execution_count": 45,
   "metadata": {
    "id": "ZojYuxvazSyM"
   },
   "outputs": [
    {
     "data": {
      "text/plain": [
       "Other        30371\n",
       "Medical       3917\n",
       "Policemen     1901\n",
       "Firemen       1511\n",
       "Lawyer         419\n",
       "Name: employee_group, dtype: int64"
      ]
     },
     "execution_count": 45,
     "metadata": {},
     "output_type": "execute_result"
    }
   ],
   "source": [
    "import scipy.stats as st\n",
    "\n",
    "def group_jobtitles(x):\n",
    "    if 'Police' in x:\n",
    "        return 'Policemen'\n",
    "    if 'Fire' in x:\n",
    "        return 'Firemen'\n",
    "    if 'Med' in x or 'Nurse' in x:\n",
    "        return 'Medical'\n",
    "    if 'Attorney' in x:\n",
    "        return 'Lawyer'\n",
    "    else:\n",
    "        return 'Other'\n",
    "    \n",
    "salaries['employee_group'] = salaries['JobTitle'].apply(group_jobtitles)\n",
    "salaries['employee_group'].value_counts()"
   ]
  },
  {
   "cell_type": "markdown",
   "metadata": {
    "id": "TPCdBgKezSyM"
   },
   "source": [
    "Determine how many \"PT\" and \"FT\" employess have all the employees groups."
   ]
  },
  {
   "cell_type": "code",
   "execution_count": 46,
   "metadata": {},
   "outputs": [
    {
     "data": {
      "text/html": [
       "<div>\n",
       "<style scoped>\n",
       "    .dataframe tbody tr th:only-of-type {\n",
       "        vertical-align: middle;\n",
       "    }\n",
       "\n",
       "    .dataframe tbody tr th {\n",
       "        vertical-align: top;\n",
       "    }\n",
       "\n",
       "    .dataframe thead th {\n",
       "        text-align: right;\n",
       "    }\n",
       "</style>\n",
       "<table border=\"1\" class=\"dataframe\">\n",
       "  <thead>\n",
       "    <tr style=\"text-align: right;\">\n",
       "      <th>Status</th>\n",
       "      <th>FT</th>\n",
       "      <th>PT</th>\n",
       "    </tr>\n",
       "    <tr>\n",
       "      <th>employee_group</th>\n",
       "      <th></th>\n",
       "      <th></th>\n",
       "    </tr>\n",
       "  </thead>\n",
       "  <tbody>\n",
       "    <tr>\n",
       "      <th>Firemen</th>\n",
       "      <td>1333</td>\n",
       "      <td>178</td>\n",
       "    </tr>\n",
       "    <tr>\n",
       "      <th>Lawyer</th>\n",
       "      <td>317</td>\n",
       "      <td>102</td>\n",
       "    </tr>\n",
       "    <tr>\n",
       "      <th>Medical</th>\n",
       "      <td>1028</td>\n",
       "      <td>2889</td>\n",
       "    </tr>\n",
       "    <tr>\n",
       "      <th>Other</th>\n",
       "      <td>18126</td>\n",
       "      <td>12245</td>\n",
       "    </tr>\n",
       "    <tr>\n",
       "      <th>Policemen</th>\n",
       "      <td>1530</td>\n",
       "      <td>371</td>\n",
       "    </tr>\n",
       "  </tbody>\n",
       "</table>\n",
       "</div>"
      ],
      "text/plain": [
       "Status             FT     PT\n",
       "employee_group              \n",
       "Firemen          1333    178\n",
       "Lawyer            317    102\n",
       "Medical          1028   2889\n",
       "Other           18126  12245\n",
       "Policemen        1530    371"
      ]
     },
     "metadata": {},
     "output_type": "display_data"
    }
   ],
   "source": [
    "# Your code here: (Store the output dataframe into a new variable)\n",
    "freq_status_employee = pd.crosstab(salaries['employee_group'], salaries['Status'])\n",
    "display(freq_status_employee)"
   ]
  },
  {
   "cell_type": "markdown",
   "metadata": {
    "id": "CJb-kx-7zSyM"
   },
   "source": [
    "Now try compute the expected frequencies doing the calculations with the individual probabilities. Remember that the Chi2 test assumes that both variables (employee_group and FT/PT) are not related (therefore they are independent). Therefore, to compute the expected frequencies you need to compute the probability of each cell and multiply it by the number of observations. ie:\n",
    "\n",
    "$$\\nu(x,y) = p(x,y) * N = p(x) * p(y) * N$$\n",
    "\n",
    "bear in mind that in general: $p(x,y)\\neq p(x)*p(y)$; the equality will only be true if x and y are independent. However, the null hypotheses says that **x and y are independent.** but that's what we're assuming with the null hypotheses.\n",
    "\n",
    "where \"x\" is the \"employee_group\" and \"y\" the (FT/PT). "
   ]
  },
  {
   "cell_type": "code",
   "execution_count": 47,
   "metadata": {},
   "outputs": [
    {
     "name": "stdout",
     "output_type": "stream",
     "text": [
      "<class 'pandas.core.frame.DataFrame'>\n"
     ]
    }
   ],
   "source": [
    "# Create an empty dataframe named \"frequencies\" to store the data.\n",
    "frequencies = pd.DataFrame()\n",
    "print(type(frequencies))"
   ]
  },
  {
   "cell_type": "code",
   "execution_count": 48,
   "metadata": {},
   "outputs": [],
   "source": [
    "# Compute Expected frequency of being \"Firemen\" and \"FT\". Store the solution in a variable named \"firemen_ft\""
   ]
  },
  {
   "cell_type": "code",
   "execution_count": 49,
   "metadata": {
    "colab": {
     "base_uri": "https://localhost:8080/"
    },
    "id": "1ld-NVuczSyN",
    "outputId": "8f4e0114-77c2-446b-f02f-bc5440b3fb9a"
   },
   "outputs": [
    {
     "name": "stdout",
     "output_type": "stream",
     "text": [
      "Probability of being a firemen: 0.04\n",
      "Probability of being a FT worker: 0.59\n",
      "885.3\n"
     ]
    }
   ],
   "source": [
    "P_firemen = freq_status_employee.values[0].sum()/freq_status_employee.values.sum()\n",
    "print('Probability of being a firemen:', round(P_firemen,2))\n",
    "P_FT = freq_status_employee['FT'].sum() / freq_status_employee.values.sum()\n",
    "print('Probability of being a FT worker:', round(P_FT,2))\n",
    "\n",
    "firemen_ft = (P_firemen * P_FT) * freq_status_employee.values.sum()\n",
    "print(round(firemen_ft,2))"
   ]
  },
  {
   "cell_type": "code",
   "execution_count": 50,
   "metadata": {},
   "outputs": [],
   "source": [
    "# Compute Expected frequency of being \"Firemen\" and \"PT\". Store the solution in a variable named \"firemen_pt\""
   ]
  },
  {
   "cell_type": "code",
   "execution_count": 51,
   "metadata": {
    "colab": {
     "base_uri": "https://localhost:8080/"
    },
    "id": "RUp3VAXIzSyN",
    "outputId": "f20f5b9b-62fe-48b9-9638-a609464a0a06"
   },
   "outputs": [
    {
     "name": "stdout",
     "output_type": "stream",
     "text": [
      "Probability of being a firemen: 0.04\n",
      "Probability of being a PT worker: 0.41\n",
      "625.7\n"
     ]
    }
   ],
   "source": [
    "P_PT = freq_status_employee['PT'].sum() / freq_status_employee.values.sum()\n",
    "print('Probability of being a firemen:', round(P_firemen,2))\n",
    "print('Probability of being a PT worker:', round(P_PT,2))\n",
    "\n",
    "firemen_pt = (P_firemen * P_PT) * freq_status_employee.values.sum()\n",
    "print(round(firemen_pt,2))"
   ]
  },
  {
   "cell_type": "code",
   "execution_count": 52,
   "metadata": {},
   "outputs": [],
   "source": [
    "# Compute Expected frequency of being \"Lawyers\" and \"FT\". Store the solution in a variable named \"lawyers_ft\""
   ]
  },
  {
   "cell_type": "code",
   "execution_count": 53,
   "metadata": {
    "colab": {
     "base_uri": "https://localhost:8080/"
    },
    "id": "5zTnWHxdzSyN",
    "outputId": "fa3db9aa-9fbb-482e-f35a-13fa9e605405"
   },
   "outputs": [
    {
     "name": "stdout",
     "output_type": "stream",
     "text": [
      "Probability of being a lawyer: 0.01\n",
      "Probability of being a FT worker: 0.59\n",
      "245.49\n"
     ]
    }
   ],
   "source": [
    "P_lawyer = freq_status_employee.values[1].sum()/freq_status_employee.values.sum()\n",
    "print('Probability of being a lawyer:', round(P_lawyer,2))\n",
    "print('Probability of being a FT worker:', round(P_FT,2))\n",
    "\n",
    "lawyers_ft = (P_lawyer * P_FT) * freq_status_employee.values.sum()\n",
    "print(round(lawyers_ft,2))"
   ]
  },
  {
   "cell_type": "code",
   "execution_count": 54,
   "metadata": {},
   "outputs": [],
   "source": [
    "# Compute Expected frequency of being \"Lawyers\" and \"PT\". Store the solution in a variable named \"lawyers_pt\""
   ]
  },
  {
   "cell_type": "code",
   "execution_count": 55,
   "metadata": {
    "colab": {
     "base_uri": "https://localhost:8080/"
    },
    "id": "f_E2hWy7zSyN",
    "outputId": "0589a145-35fb-4441-c5e8-32bce904e01a"
   },
   "outputs": [
    {
     "name": "stdout",
     "output_type": "stream",
     "text": [
      "Probability of being a lawyer: 0.01\n",
      "Probability of being a PT worker: 0.41\n",
      "173.51\n"
     ]
    }
   ],
   "source": [
    "print('Probability of being a lawyer:', round(P_lawyer,2))\n",
    "print('Probability of being a PT worker:', round(P_PT,2))\n",
    "\n",
    "lawyers_pt = (P_lawyer * P_PT) * freq_status_employee.values.sum()\n",
    "print(round(lawyers_pt,2))"
   ]
  },
  {
   "cell_type": "code",
   "execution_count": 56,
   "metadata": {},
   "outputs": [],
   "source": [
    "# Compute Expected frequency of being \"Medical\" and \"FT\". Store the solution in a variable named \"medical_ft\""
   ]
  },
  {
   "cell_type": "code",
   "execution_count": 57,
   "metadata": {
    "colab": {
     "base_uri": "https://localhost:8080/"
    },
    "id": "TJSVxXMlzSyN",
    "outputId": "4731e0ca-028d-4582-fc75-772b2e3644b2"
   },
   "outputs": [
    {
     "name": "stdout",
     "output_type": "stream",
     "text": [
      "Probability of being a medical: 0.1\n",
      "Probability of being a FT worker: 0.59\n",
      "2294.98\n"
     ]
    }
   ],
   "source": [
    "P_medical = freq_status_employee.values[2].sum()/freq_status_employee.values.sum()\n",
    "print('Probability of being a medical:', round(P_medical,2))\n",
    "print('Probability of being a FT worker:', round(P_FT,2))\n",
    "\n",
    "medical_ft = (P_medical * P_FT) * freq_status_employee.values.sum()\n",
    "print(round(medical_ft,2))"
   ]
  },
  {
   "cell_type": "code",
   "execution_count": 58,
   "metadata": {},
   "outputs": [],
   "source": [
    "# Compute Expected frequency of being \"Medical\" and \"PT\". Store the solution in a variable named \"medical_pt\""
   ]
  },
  {
   "cell_type": "code",
   "execution_count": 59,
   "metadata": {
    "colab": {
     "base_uri": "https://localhost:8080/"
    },
    "id": "6JDp8KxyzSyO",
    "outputId": "7cf6a30a-5a80-4c47-f38b-c51e98025b48"
   },
   "outputs": [
    {
     "name": "stdout",
     "output_type": "stream",
     "text": [
      "Probability of being a medical: 0.1\n",
      "Probability of being a PT worker: 0.41\n",
      "1622.02\n"
     ]
    }
   ],
   "source": [
    "print('Probability of being a medical:', round(P_medical,2))\n",
    "print('Probability of being a PT worker:', round(P_PT,2))\n",
    "\n",
    "medical_pt = (P_medical * P_PT) * freq_status_employee.values.sum()\n",
    "print(round(medical_pt,2))"
   ]
  },
  {
   "cell_type": "code",
   "execution_count": 60,
   "metadata": {},
   "outputs": [],
   "source": [
    "# Compute Expected frequency of being \"Other\" and \"FT\". Store the solution in a variable named \"other_ft\""
   ]
  },
  {
   "cell_type": "code",
   "execution_count": 61,
   "metadata": {
    "colab": {
     "base_uri": "https://localhost:8080/"
    },
    "id": "Faj2vgrazSyO",
    "outputId": "bcc9b61f-abf7-44b4-9cc4-57c34f4559b3"
   },
   "outputs": [
    {
     "name": "stdout",
     "output_type": "stream",
     "text": [
      "Probability of being others: 0.8\n",
      "Probability of being a FT worker: 0.59\n",
      "17794.43\n"
     ]
    }
   ],
   "source": [
    "P_other = freq_status_employee.values[3].sum()/freq_status_employee.values.sum()\n",
    "print('Probability of being others:', round(P_other,2))\n",
    "print('Probability of being a FT worker:', round(P_FT,2))\n",
    "\n",
    "other_ft = (P_other * P_FT) * freq_status_employee.values.sum()\n",
    "print(round(other_ft,2))"
   ]
  },
  {
   "cell_type": "code",
   "execution_count": 62,
   "metadata": {},
   "outputs": [],
   "source": [
    "# Compute Expected frequency of being \"Other\" and \"PT\". Store the solution in a variable named \"other_pt\""
   ]
  },
  {
   "cell_type": "code",
   "execution_count": 63,
   "metadata": {
    "colab": {
     "base_uri": "https://localhost:8080/"
    },
    "id": "kmAMpPFyzSyO",
    "outputId": "0de568d8-d0db-471f-bc60-2ddc65cb5e54"
   },
   "outputs": [
    {
     "name": "stdout",
     "output_type": "stream",
     "text": [
      "Probability of being others: 0.8\n",
      "Probability of being a PT worker: 0.41\n",
      "12576.57\n"
     ]
    }
   ],
   "source": [
    "print('Probability of being others:', round(P_other,2))\n",
    "print('Probability of being a PT worker:', round(P_PT,2))\n",
    "\n",
    "other_pt = (P_other * P_PT) * freq_status_employee.values.sum()\n",
    "print(round(other_pt,2))"
   ]
  },
  {
   "cell_type": "code",
   "execution_count": 64,
   "metadata": {},
   "outputs": [],
   "source": [
    "# Compute Expected frequency of being \"Policement\" and \"FT\". Store the solution in a variable named \"policemen_ft\""
   ]
  },
  {
   "cell_type": "code",
   "execution_count": 65,
   "metadata": {
    "colab": {
     "base_uri": "https://localhost:8080/"
    },
    "id": "yUyhx_IezSyO",
    "outputId": "9f9bfaae-d402-4e04-8863-e3ff2bf63ac9"
   },
   "outputs": [
    {
     "name": "stdout",
     "output_type": "stream",
     "text": [
      "Probability of being a policeman: 0.05\n",
      "Probability of being a FT worker: 0.59\n",
      "1113.8\n"
     ]
    }
   ],
   "source": [
    "P_policemen = freq_status_employee.values[4].sum()/freq_status_employee.values.sum()\n",
    "print('Probability of being a policeman:', round(P_policemen,2))\n",
    "print('Probability of being a FT worker:', round(P_FT,2))\n",
    "\n",
    "policemen_ft = (P_policemen * P_FT) * freq_status_employee.values.sum()\n",
    "print(round(policemen_ft,2))"
   ]
  },
  {
   "cell_type": "code",
   "execution_count": 66,
   "metadata": {},
   "outputs": [],
   "source": [
    "# Compute Expected frequency of being \"Policement\" and \"PT\". Store the solution in a variable named \"policemen_pt\""
   ]
  },
  {
   "cell_type": "code",
   "execution_count": 67,
   "metadata": {
    "colab": {
     "base_uri": "https://localhost:8080/"
    },
    "id": "xU9CcKJSzSyO",
    "outputId": "c19fc385-8048-4f47-9397-46d416f1ffdf"
   },
   "outputs": [
    {
     "name": "stdout",
     "output_type": "stream",
     "text": [
      "Probability of being a policeman: 0.05\n",
      "Probability of being a PT worker: 0.41\n",
      "787.2\n"
     ]
    }
   ],
   "source": [
    "print('Probability of being a policeman:', round(P_policemen,2))\n",
    "print('Probability of being a PT worker:', round(P_PT,2))\n",
    "\n",
    "policemen_pt = (P_policemen * P_PT) * freq_status_employee.values.sum()\n",
    "print(round(policemen_pt,2))"
   ]
  },
  {
   "cell_type": "markdown",
   "metadata": {
    "id": "XRuFEP-WzSyO"
   },
   "source": [
    "* Store all the expected frequencies of \"FT\" employees in a list \n",
    "* Store all the \"PT\" employees into another list\n",
    "* Create a dictionary with \"FT\" and \"PT\" as keys and as the values use the previous lists\n",
    "* Create a dataframe with this dictionary using pd.DataFrame()"
   ]
  },
  {
   "cell_type": "code",
   "execution_count": 68,
   "metadata": {},
   "outputs": [
    {
     "name": "stdout",
     "output_type": "stream",
     "text": [
      "Full Time employees: [885.2979878800596, 245.49295626852748, 2294.9783047823917, 17794.430966184842, 1113.7997848841785]\n",
      "Part Time employees: [625.7020121199403, 173.5070437314725, 1622.021695217608, 12576.569033815158, 787.2002151158215]\n"
     ]
    }
   ],
   "source": [
    "FT_lst = [firemen_ft, lawyers_ft, medical_ft, other_ft, policemen_ft]\n",
    "PT_lst = [firemen_pt, lawyers_pt, medical_pt, other_pt, policemen_pt]\n",
    "\n",
    "print('Full Time employees:', FT_lst)\n",
    "print('Part Time employees:', PT_lst)"
   ]
  },
  {
   "cell_type": "code",
   "execution_count": 69,
   "metadata": {},
   "outputs": [
    {
     "data": {
      "text/html": [
       "<div>\n",
       "<style scoped>\n",
       "    .dataframe tbody tr th:only-of-type {\n",
       "        vertical-align: middle;\n",
       "    }\n",
       "\n",
       "    .dataframe tbody tr th {\n",
       "        vertical-align: top;\n",
       "    }\n",
       "\n",
       "    .dataframe thead th {\n",
       "        text-align: right;\n",
       "    }\n",
       "</style>\n",
       "<table border=\"1\" class=\"dataframe\">\n",
       "  <thead>\n",
       "    <tr style=\"text-align: right;\">\n",
       "      <th></th>\n",
       "      <th>FT</th>\n",
       "      <th>PT</th>\n",
       "    </tr>\n",
       "    <tr>\n",
       "      <th>employee_group</th>\n",
       "      <th></th>\n",
       "      <th></th>\n",
       "    </tr>\n",
       "  </thead>\n",
       "  <tbody>\n",
       "    <tr>\n",
       "      <th>Firemen</th>\n",
       "      <td>885.297988</td>\n",
       "      <td>625.702012</td>\n",
       "    </tr>\n",
       "    <tr>\n",
       "      <th>Lawyer</th>\n",
       "      <td>245.492956</td>\n",
       "      <td>173.507044</td>\n",
       "    </tr>\n",
       "    <tr>\n",
       "      <th>Medical</th>\n",
       "      <td>2294.978305</td>\n",
       "      <td>1622.021695</td>\n",
       "    </tr>\n",
       "    <tr>\n",
       "      <th>Other</th>\n",
       "      <td>17794.430966</td>\n",
       "      <td>12576.569034</td>\n",
       "    </tr>\n",
       "    <tr>\n",
       "      <th>Policemen</th>\n",
       "      <td>1113.799785</td>\n",
       "      <td>787.200215</td>\n",
       "    </tr>\n",
       "  </tbody>\n",
       "</table>\n",
       "</div>"
      ],
      "text/plain": [
       "                          FT            PT\n",
       "employee_group                            \n",
       "Firemen           885.297988    625.702012\n",
       "Lawyer            245.492956    173.507044\n",
       "Medical          2294.978305   1622.021695\n",
       "Other           17794.430966  12576.569034\n",
       "Policemen        1113.799785    787.200215"
      ]
     },
     "metadata": {},
     "output_type": "display_data"
    }
   ],
   "source": [
    "freq_expected_dict = {'FT': FT_lst,\n",
    "            'PT': PT_lst}\n",
    "freq_expected_df = pd.DataFrame(freq_expected_dict, index = freq_status_employee.index)\n",
    "display(freq_expected_df)"
   ]
  },
  {
   "cell_type": "markdown",
   "metadata": {
    "id": "serVGf6HzSyP"
   },
   "source": [
    "Now use the \"st.chi2_contingency()\" from scipy.stats [documentation here](https://docs.scipy.org/doc/scipy/reference/generated/scipy.stats.chi2_contingency.html) to conduct a Chi2 test to determine if the diferences between employee groups are statistically significant using a 95% confidence level. Hint: fill the function with a dataframe of actual frequencies."
   ]
  },
  {
   "cell_type": "code",
   "execution_count": 70,
   "metadata": {},
   "outputs": [],
   "source": [
    "# Your code here: (use the st.chi2_contingency() function from scipy.stats to compute:\n",
    "# The Chi2 value\n",
    "# The p-value \n",
    "# The expected frequencies."
   ]
  },
  {
   "cell_type": "markdown",
   "metadata": {},
   "source": [
    "#### Comments:\n",
    "- Ho: x and y are independent\n",
    "- Ha: x and y are NOT independent"
   ]
  },
  {
   "cell_type": "code",
   "execution_count": 71,
   "metadata": {},
   "outputs": [
    {
     "name": "stdout",
     "output_type": "stream",
     "text": [
      "(2676.642333711905, 0.0, 4, array([[  885.29798788,   625.70201212],\n",
      "       [  245.49295627,   173.50704373],\n",
      "       [ 2294.97830478,  1622.02169522],\n",
      "       [17794.43096618, 12576.56903382],\n",
      "       [ 1113.79978488,   787.20021512]]))\n"
     ]
    }
   ],
   "source": [
    "chi2_test = st.chi2_contingency(np.array(freq_status_employee))\n",
    "\n",
    "print(chi2_test)"
   ]
  },
  {
   "cell_type": "code",
   "execution_count": 72,
   "metadata": {
    "colab": {
     "base_uri": "https://localhost:8080/"
    },
    "id": "xJ4eZt7UzSyP",
    "outputId": "8c3e8264-fa84-4046-b582-09283ac78611"
   },
   "outputs": [
    {
     "name": "stdout",
     "output_type": "stream",
     "text": [
      "Chi2 value: 2676.642333711905\n",
      "P-value: 0.0\n",
      "Degrees of freedom: 4\n",
      "Expected frequencies array:\n",
      " [[  885.29798788   625.70201212]\n",
      " [  245.49295627   173.50704373]\n",
      " [ 2294.97830478  1622.02169522]\n",
      " [17794.43096618 12576.56903382]\n",
      " [ 1113.79978488   787.20021512]]\n",
      "Critical value: 9.487729036781154\n"
     ]
    }
   ],
   "source": [
    "print('Chi2 value:', chi2_test[0])\n",
    "print('P-value:', chi2_test[1])\n",
    "print('Degrees of freedom:', chi2_test[2])\n",
    "print('Expected frequencies array:\\n', chi2_test[3])\n",
    "chi_cv = st.chi2.ppf(0.95,df=chi2_test[2])\n",
    "print('Critical value:', chi_cv)"
   ]
  },
  {
   "cell_type": "markdown",
   "metadata": {},
   "source": [
    "*As chi value 2676.642333711905 > 9.487729036781154 and the p-value is smaller than 0.05, we REJECT the null hypothesis and we can conclude that the features are NOT INDEPENDENT. Therefore, the features are somehow related.*"
   ]
  },
  {
   "cell_type": "markdown",
   "metadata": {
    "id": "HAlxWZjOzSyP"
   },
   "source": [
    "Check if your expected frequencies aggree with the ones obtained with the st.chi2_contingency() function"
   ]
  },
  {
   "cell_type": "code",
   "execution_count": 73,
   "metadata": {
    "id": "AbQbrku9zSyP"
   },
   "outputs": [
    {
     "data": {
      "text/html": [
       "<div>\n",
       "<style scoped>\n",
       "    .dataframe tbody tr th:only-of-type {\n",
       "        vertical-align: middle;\n",
       "    }\n",
       "\n",
       "    .dataframe tbody tr th {\n",
       "        vertical-align: top;\n",
       "    }\n",
       "\n",
       "    .dataframe thead th {\n",
       "        text-align: right;\n",
       "    }\n",
       "</style>\n",
       "<table border=\"1\" class=\"dataframe\">\n",
       "  <thead>\n",
       "    <tr style=\"text-align: right;\">\n",
       "      <th></th>\n",
       "      <th>FT</th>\n",
       "      <th>PT</th>\n",
       "    </tr>\n",
       "    <tr>\n",
       "      <th>employee_group</th>\n",
       "      <th></th>\n",
       "      <th></th>\n",
       "    </tr>\n",
       "  </thead>\n",
       "  <tbody>\n",
       "    <tr>\n",
       "      <th>Firemen</th>\n",
       "      <td>885.297988</td>\n",
       "      <td>625.702012</td>\n",
       "    </tr>\n",
       "    <tr>\n",
       "      <th>Lawyer</th>\n",
       "      <td>245.492956</td>\n",
       "      <td>173.507044</td>\n",
       "    </tr>\n",
       "    <tr>\n",
       "      <th>Medical</th>\n",
       "      <td>2294.978305</td>\n",
       "      <td>1622.021695</td>\n",
       "    </tr>\n",
       "    <tr>\n",
       "      <th>Other</th>\n",
       "      <td>17794.430966</td>\n",
       "      <td>12576.569034</td>\n",
       "    </tr>\n",
       "    <tr>\n",
       "      <th>Policemen</th>\n",
       "      <td>1113.799785</td>\n",
       "      <td>787.200215</td>\n",
       "    </tr>\n",
       "  </tbody>\n",
       "</table>\n",
       "</div>"
      ],
      "text/plain": [
       "                          FT            PT\n",
       "employee_group                            \n",
       "Firemen           885.297988    625.702012\n",
       "Lawyer            245.492956    173.507044\n",
       "Medical          2294.978305   1622.021695\n",
       "Other           17794.430966  12576.569034\n",
       "Policemen        1113.799785    787.200215"
      ]
     },
     "metadata": {},
     "output_type": "display_data"
    },
    {
     "data": {
      "text/html": [
       "<div>\n",
       "<style scoped>\n",
       "    .dataframe tbody tr th:only-of-type {\n",
       "        vertical-align: middle;\n",
       "    }\n",
       "\n",
       "    .dataframe tbody tr th {\n",
       "        vertical-align: top;\n",
       "    }\n",
       "\n",
       "    .dataframe thead th {\n",
       "        text-align: right;\n",
       "    }\n",
       "</style>\n",
       "<table border=\"1\" class=\"dataframe\">\n",
       "  <thead>\n",
       "    <tr style=\"text-align: right;\">\n",
       "      <th></th>\n",
       "      <th>FT</th>\n",
       "      <th>PT</th>\n",
       "    </tr>\n",
       "    <tr>\n",
       "      <th>employee_group</th>\n",
       "      <th></th>\n",
       "      <th></th>\n",
       "    </tr>\n",
       "  </thead>\n",
       "  <tbody>\n",
       "    <tr>\n",
       "      <th>Firemen</th>\n",
       "      <td>885.297988</td>\n",
       "      <td>625.702012</td>\n",
       "    </tr>\n",
       "    <tr>\n",
       "      <th>Lawyer</th>\n",
       "      <td>245.492956</td>\n",
       "      <td>173.507044</td>\n",
       "    </tr>\n",
       "    <tr>\n",
       "      <th>Medical</th>\n",
       "      <td>2294.978305</td>\n",
       "      <td>1622.021695</td>\n",
       "    </tr>\n",
       "    <tr>\n",
       "      <th>Other</th>\n",
       "      <td>17794.430966</td>\n",
       "      <td>12576.569034</td>\n",
       "    </tr>\n",
       "    <tr>\n",
       "      <th>Policemen</th>\n",
       "      <td>1113.799785</td>\n",
       "      <td>787.200215</td>\n",
       "    </tr>\n",
       "  </tbody>\n",
       "</table>\n",
       "</div>"
      ],
      "text/plain": [
       "                          FT            PT\n",
       "employee_group                            \n",
       "Firemen           885.297988    625.702012\n",
       "Lawyer            245.492956    173.507044\n",
       "Medical          2294.978305   1622.021695\n",
       "Other           17794.430966  12576.569034\n",
       "Policemen        1113.799785    787.200215"
      ]
     },
     "metadata": {},
     "output_type": "display_data"
    }
   ],
   "source": [
    "chi_freq = pd.DataFrame(chi2_test[3], index = freq_expected_df.index, columns = freq_expected_df.columns )\n",
    "display(chi_freq)\n",
    "display(freq_expected_df)"
   ]
  },
  {
   "cell_type": "code",
   "execution_count": null,
   "metadata": {},
   "outputs": [],
   "source": []
  }
 ],
 "metadata": {
  "colab": {
   "name": "main_solutions.ipynb",
   "provenance": [],
   "toc_visible": true
  },
  "kernelspec": {
   "display_name": "Python 3 (ipykernel)",
   "language": "python",
   "name": "python3"
  },
  "language_info": {
   "codemirror_mode": {
    "name": "ipython",
    "version": 3
   },
   "file_extension": ".py",
   "mimetype": "text/x-python",
   "name": "python",
   "nbconvert_exporter": "python",
   "pygments_lexer": "ipython3",
   "version": "3.9.12"
  }
 },
 "nbformat": 4,
 "nbformat_minor": 1
}
